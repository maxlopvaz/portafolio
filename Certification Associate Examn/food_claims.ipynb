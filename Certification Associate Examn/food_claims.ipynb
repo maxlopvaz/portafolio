{
 "cells": [
  {
   "cell_type": "markdown",
   "id": "a5b3bc0e-b993-4ee3-bd07-825a474bd0d9",
   "metadata": {
    "tags": []
   },
   "source": [
    "# Data Analyst Associate Practical Exam Submission\n",
    "\n",
    "**You can use any tool that you want to do your analysis and create visualizations. Use this template to write up your summary for submission.**\n",
    "\n",
    "You can use any markdown formatting you wish. If you are not familiar with Markdown, read the [Markdown Guide](https://s3.amazonaws.com/talent-assets.datacamp.com/Markdown+Guide.pdf) before you start.\n",
    "\n"
   ]
  },
  {
   "cell_type": "code",
   "execution_count": 1,
   "id": "7f3cf30d-3882-4110-86ae-658ce03280b3",
   "metadata": {
    "executionTime": 695,
    "lastSuccessfullyExecutedCode": "import pandas as pd\nimport numpy as np\nimport matplotlib.pyplot as plt\nimport seaborn as sns\nimport scipy.stats as stats"
   },
   "outputs": [],
   "source": [
    "import pandas as pd\n",
    "import numpy as np\n",
    "import matplotlib.pyplot as plt\n",
    "import seaborn as sns\n",
    "import scipy.stats as stats"
   ]
  },
  {
   "cell_type": "code",
   "execution_count": 2,
   "id": "a5499f59-c787-4b77-a13d-08af6e117508",
   "metadata": {
    "executionTime": 652,
    "lastSuccessfullyExecutedCode": "df = pd.read_csv('food_claims_2212.csv')\ndf.head()"
   },
   "outputs": [
    {
     "data": {
      "text/html": [
       "<div>\n",
       "<style scoped>\n",
       "    .dataframe tbody tr th:only-of-type {\n",
       "        vertical-align: middle;\n",
       "    }\n",
       "\n",
       "    .dataframe tbody tr th {\n",
       "        vertical-align: top;\n",
       "    }\n",
       "\n",
       "    .dataframe thead th {\n",
       "        text-align: right;\n",
       "    }\n",
       "</style>\n",
       "<table border=\"1\" class=\"dataframe\">\n",
       "  <thead>\n",
       "    <tr style=\"text-align: right;\">\n",
       "      <th></th>\n",
       "      <th>claim_id</th>\n",
       "      <th>time_to_close</th>\n",
       "      <th>claim_amount</th>\n",
       "      <th>amount_paid</th>\n",
       "      <th>location</th>\n",
       "      <th>individuals_on_claim</th>\n",
       "      <th>linked_cases</th>\n",
       "      <th>cause</th>\n",
       "    </tr>\n",
       "  </thead>\n",
       "  <tbody>\n",
       "    <tr>\n",
       "      <th>0</th>\n",
       "      <td>1</td>\n",
       "      <td>317</td>\n",
       "      <td>R$ 74474.55</td>\n",
       "      <td>51231.37</td>\n",
       "      <td>RECIFE</td>\n",
       "      <td>15</td>\n",
       "      <td>False</td>\n",
       "      <td>unknown</td>\n",
       "    </tr>\n",
       "    <tr>\n",
       "      <th>1</th>\n",
       "      <td>2</td>\n",
       "      <td>195</td>\n",
       "      <td>R$ 52137.83</td>\n",
       "      <td>42111.30</td>\n",
       "      <td>FORTALEZA</td>\n",
       "      <td>12</td>\n",
       "      <td>True</td>\n",
       "      <td>unknown</td>\n",
       "    </tr>\n",
       "    <tr>\n",
       "      <th>2</th>\n",
       "      <td>3</td>\n",
       "      <td>183</td>\n",
       "      <td>R$ 24447.2</td>\n",
       "      <td>23986.30</td>\n",
       "      <td>SAO LUIS</td>\n",
       "      <td>10</td>\n",
       "      <td>True</td>\n",
       "      <td>meat</td>\n",
       "    </tr>\n",
       "    <tr>\n",
       "      <th>3</th>\n",
       "      <td>4</td>\n",
       "      <td>186</td>\n",
       "      <td>R$ 29006.28</td>\n",
       "      <td>27942.72</td>\n",
       "      <td>FORTALEZA</td>\n",
       "      <td>11</td>\n",
       "      <td>False</td>\n",
       "      <td>meat</td>\n",
       "    </tr>\n",
       "    <tr>\n",
       "      <th>4</th>\n",
       "      <td>5</td>\n",
       "      <td>138</td>\n",
       "      <td>R$ 19520.6</td>\n",
       "      <td>16251.06</td>\n",
       "      <td>RECIFE</td>\n",
       "      <td>11</td>\n",
       "      <td>False</td>\n",
       "      <td>vegetable</td>\n",
       "    </tr>\n",
       "  </tbody>\n",
       "</table>\n",
       "</div>"
      ],
      "text/plain": [
       "   claim_id  time_to_close claim_amount  amount_paid   location  \\\n",
       "0         1            317  R$ 74474.55     51231.37     RECIFE   \n",
       "1         2            195  R$ 52137.83     42111.30  FORTALEZA   \n",
       "2         3            183   R$ 24447.2     23986.30   SAO LUIS   \n",
       "3         4            186  R$ 29006.28     27942.72  FORTALEZA   \n",
       "4         5            138   R$ 19520.6     16251.06     RECIFE   \n",
       "\n",
       "   individuals_on_claim linked_cases      cause  \n",
       "0                    15        False    unknown  \n",
       "1                    12         True    unknown  \n",
       "2                    10         True       meat  \n",
       "3                    11        False       meat  \n",
       "4                    11        False  vegetable  "
      ]
     },
     "execution_count": 2,
     "metadata": {},
     "output_type": "execute_result"
    }
   ],
   "source": [
    "df = pd.read_csv('food_claims_2212.csv')\n",
    "df.head()"
   ]
  },
  {
   "cell_type": "markdown",
   "id": "d1b1a012-1ccb-40e7-a1ad-77b60b256690",
   "metadata": {
    "tags": []
   },
   "source": [
    "## Task 1 - Data Cleaning\n",
    "\n"
   ]
  },
  {
   "cell_type": "code",
   "execution_count": 3,
   "id": "7669bfb0-6c96-4476-88a5-736b02e13a8f",
   "metadata": {
    "executionTime": 282,
    "lastSuccessfullyExecutedCode": "df.info()"
   },
   "outputs": [
    {
     "name": "stdout",
     "output_type": "stream",
     "text": [
      "<class 'pandas.core.frame.DataFrame'>\n",
      "RangeIndex: 2000 entries, 0 to 1999\n",
      "Data columns (total 8 columns):\n",
      " #   Column                Non-Null Count  Dtype  \n",
      "---  ------                --------------  -----  \n",
      " 0   claim_id              2000 non-null   int64  \n",
      " 1   time_to_close         2000 non-null   int64  \n",
      " 2   claim_amount          2000 non-null   object \n",
      " 3   amount_paid           1964 non-null   float64\n",
      " 4   location              2000 non-null   object \n",
      " 5   individuals_on_claim  2000 non-null   int64  \n",
      " 6   linked_cases          1974 non-null   object \n",
      " 7   cause                 2000 non-null   object \n",
      "dtypes: float64(1), int64(3), object(4)\n",
      "memory usage: 125.1+ KB\n"
     ]
    }
   ],
   "source": [
    "df.info()"
   ]
  },
  {
   "cell_type": "markdown",
   "id": "714a7083-7a43-4b0b-8ed4-2675efc87691",
   "metadata": {
    "tags": []
   },
   "source": [
    "### **Column - Name - Criteria**\n",
    "\n",
    "- **claim_id** - Nominal. The unique identifier of the claim. Missing values are not possible due to the database structure.\n",
    "\n",
    "- **time_to_close** - Discrete. The number of days to close the claim. Any positive value. Replace missing values with the overall median time to close.\n",
    "\n",
    "- **claim_amount** - Continuous. The initial claim requested in the currency of Brazil, rounded to 2 decimal places.Replace missing values with the overall median claim amount.\n",
    "\n",
    "- **amount_paid** - Continuous. Final amount paid. In the currency of Brazil. Rounded to 2 decimal places. Replace missing values with the overall median amount paid.\n",
    "\n",
    "- **location** - Nominal. Location of the claim, one of “RECIFE”, “SAO LUIS”, “FORTALEZA”, or “NATAL”. Remove missing values.\n",
    "\n",
    "- **individuals_on_claim** - Discrete. Number of individuals on this claim. Minimum 1 person. Replace missing value with 0.\n",
    "\n",
    "- **linked_cases** - Nominal. Whether this claim is linked to other cases. Either TRUE or FALSE. Replace missing values with FALSE.\n",
    "\n",
    "- **cause** - Nominal. Cause of the food poisoning. One of “vegetable”, “meat” or “unknown”. Replace missing values with ‘unknown’."
   ]
  },
  {
   "cell_type": "markdown",
   "id": "0a6d85c3-1f40-42b7-bd9f-70352c2d04aa",
   "metadata": {},
   "source": [
    "We begin the cleaning column by column following criteria show before\n",
    "\n",
    "#### claim_id\n",
    "\n"
   ]
  },
  {
   "cell_type": "code",
   "execution_count": 4,
   "id": "232b032e-16c7-43e0-a53a-2ee35dca73f4",
   "metadata": {
    "executionTime": 1148,
    "lastSuccessfullyExecutedCode": "df['claim_id'].drop_duplicates()"
   },
   "outputs": [
    {
     "data": {
      "text/plain": [
       "0          1\n",
       "1          2\n",
       "2          3\n",
       "3          4\n",
       "4          5\n",
       "        ... \n",
       "1995    1996\n",
       "1996    1997\n",
       "1997    1998\n",
       "1998    1999\n",
       "1999    2000\n",
       "Name: claim_id, Length: 2000, dtype: int64"
      ]
     },
     "execution_count": 4,
     "metadata": {},
     "output_type": "execute_result"
    }
   ],
   "source": [
    "df['claim_id'].drop_duplicates()"
   ]
  },
  {
   "cell_type": "code",
   "execution_count": 5,
   "id": "7ba6f50c-5536-4d82-9bc0-c6dea710ea02",
   "metadata": {
    "executionTime": 305,
    "lastSuccessfullyExecutedCode": "df['claim_id'].isnull().value_counts()"
   },
   "outputs": [
    {
     "data": {
      "text/plain": [
       "False    2000\n",
       "Name: claim_id, dtype: int64"
      ]
     },
     "execution_count": 5,
     "metadata": {},
     "output_type": "execute_result"
    }
   ],
   "source": [
    "df['claim_id'].isnull().value_counts()"
   ]
  },
  {
   "cell_type": "markdown",
   "id": "9d661b16-a8a3-4276-b553-12c5e1b4071b",
   "metadata": {},
   "source": [
    "The columns claim_id does't have null values."
   ]
  },
  {
   "cell_type": "markdown",
   "id": "2b9df954-169e-4f51-818e-7d20fccb6bc3",
   "metadata": {},
   "source": [
    "#### time_to_close"
   ]
  },
  {
   "cell_type": "code",
   "execution_count": 6,
   "id": "771f390f-c635-47ee-8cde-659a4b08c2d4",
   "metadata": {
    "executionTime": 525,
    "lastSuccessfullyExecutedCode": "df['time_to_close'].isnull().value_counts()"
   },
   "outputs": [
    {
     "data": {
      "text/plain": [
       "False    2000\n",
       "Name: time_to_close, dtype: int64"
      ]
     },
     "execution_count": 6,
     "metadata": {},
     "output_type": "execute_result"
    }
   ],
   "source": [
    "df['time_to_close'].isnull().value_counts()"
   ]
  },
  {
   "cell_type": "markdown",
   "id": "cc17209f-4b45-49a5-98c8-2f3476b99111",
   "metadata": {},
   "source": [
    "These columns does´t have null values."
   ]
  },
  {
   "cell_type": "markdown",
   "id": "96513109-e74c-4f1f-8229-f6eb79c442bc",
   "metadata": {},
   "source": [
    "#### claim_amount\n",
    "Firts we look that the format of this column is showing the curreny initial letter, so we split these to have a integrer a we have the correct data type for this column"
   ]
  },
  {
   "cell_type": "code",
   "execution_count": 7,
   "id": "eb8b9564-9727-4fc0-8ca8-dd3edcfd9889",
   "metadata": {
    "executionTime": 0,
    "lastSuccessfullyExecutedCode": "df[['denomination', 'claim_amount']] = df['claim_amount'].str.split(expand=True)"
   },
   "outputs": [],
   "source": [
    "df[['denomination', 'claim_amount']] = df['claim_amount'].str.split(expand=True)"
   ]
  },
  {
   "cell_type": "markdown",
   "id": "39d575d5-de83-4144-b058-db8ff5b9f45b",
   "metadata": {},
   "source": [
    "After this we transform the data type to a float with two decimals"
   ]
  },
  {
   "cell_type": "code",
   "execution_count": 8,
   "id": "99882f0e-bb1f-4339-945c-828657a0be23",
   "metadata": {
    "executionTime": 0,
    "lastSuccessfullyExecutedCode": "df['claim_amount'] = df['claim_amount'].astype(float).round(2)"
   },
   "outputs": [],
   "source": [
    "df['claim_amount'] = df['claim_amount'].astype(float).round(2)"
   ]
  },
  {
   "cell_type": "code",
   "execution_count": 9,
   "id": "8189887a-d9db-42ca-9025-35c7619ca933",
   "metadata": {
    "executionTime": 293,
    "lastSuccessfullyExecutedCode": "df['claim_amount'].isnull().value_counts()"
   },
   "outputs": [
    {
     "data": {
      "text/plain": [
       "False    2000\n",
       "Name: claim_amount, dtype: int64"
      ]
     },
     "execution_count": 9,
     "metadata": {},
     "output_type": "execute_result"
    }
   ],
   "source": [
    "df['claim_amount'].isnull().value_counts()"
   ]
  },
  {
   "cell_type": "markdown",
   "id": "1d69dd36-9c88-407e-bc32-726469c4ec6a",
   "metadata": {},
   "source": [
    "with all these steps, we have a column free of null values and with a the correct format."
   ]
  },
  {
   "cell_type": "markdown",
   "id": "73d1eba1-93b7-4dd5-9f6d-c51af019efa2",
   "metadata": {},
   "source": [
    "#### amount_paid"
   ]
  },
  {
   "cell_type": "markdown",
   "id": "411504e8-b054-40d1-a0bf-8fa7c54936b2",
   "metadata": {},
   "source": [
    "Round the values of the column since we have already the correct data type"
   ]
  },
  {
   "cell_type": "code",
   "execution_count": 10,
   "id": "16a1201a-692b-4619-9dd7-ffc7da1a99f8",
   "metadata": {
    "executionTime": 244,
    "lastSuccessfullyExecutedCode": "df['amount_paid'].round(2)"
   },
   "outputs": [
    {
     "data": {
      "text/plain": [
       "0       51231.37\n",
       "1       42111.30\n",
       "2       23986.30\n",
       "3       27942.72\n",
       "4       16251.06\n",
       "          ...   \n",
       "1995    24265.02\n",
       "1996     4772.77\n",
       "1997    10087.81\n",
       "1998    23310.24\n",
       "1999     6417.92\n",
       "Name: amount_paid, Length: 2000, dtype: float64"
      ]
     },
     "execution_count": 10,
     "metadata": {},
     "output_type": "execute_result"
    }
   ],
   "source": [
    "df['amount_paid'].round(2)"
   ]
  },
  {
   "cell_type": "markdown",
   "id": "24b3baa7-452b-46d2-a89f-f0761d9b14c6",
   "metadata": {},
   "source": [
    "now we verify the null values in the column"
   ]
  },
  {
   "cell_type": "code",
   "execution_count": 11,
   "id": "ebb04c93-5810-4d5b-95e4-ec53d9c29797",
   "metadata": {
    "executionTime": 322,
    "lastSuccessfullyExecutedCode": "df['amount_paid'].isnull().value_counts()"
   },
   "outputs": [
    {
     "data": {
      "text/plain": [
       "False    1964\n",
       "True       36\n",
       "Name: amount_paid, dtype: int64"
      ]
     },
     "execution_count": 11,
     "metadata": {},
     "output_type": "execute_result"
    }
   ],
   "source": [
    "df['amount_paid'].isnull().value_counts()"
   ]
  },
  {
   "cell_type": "markdown",
   "id": "f4e9c249-d0b7-47a6-ab8a-15743c578cce",
   "metadata": {},
   "source": [
    "so we have null values, we fill these values with the overall amount_paid mean"
   ]
  },
  {
   "cell_type": "code",
   "execution_count": 12,
   "id": "3df647a9-50e8-423c-aa81-bae3f280f6e1",
   "metadata": {
    "executionTime": 0,
    "lastSuccessfullyExecutedCode": "mean_ap = df['amount_paid'].mean()\ndf['amount_paid'] = df['amount_paid'].fillna(mean_ap)"
   },
   "outputs": [],
   "source": [
    "mean_ap = df['amount_paid'].mean()\n",
    "df['amount_paid'] = df['amount_paid'].fillna(mean_ap)"
   ]
  },
  {
   "cell_type": "markdown",
   "id": "4aa12378-f0fd-4996-abc5-de488715830b",
   "metadata": {},
   "source": [
    "#### location"
   ]
  },
  {
   "cell_type": "code",
   "execution_count": 13,
   "id": "a1103b18-4072-4067-a58d-4e4370df4863",
   "metadata": {
    "executionTime": 279,
    "lastSuccessfullyExecutedCode": "df['location'].unique()"
   },
   "outputs": [
    {
     "data": {
      "text/plain": [
       "array(['RECIFE', 'FORTALEZA', 'SAO LUIS', 'NATAL'], dtype=object)"
      ]
     },
     "execution_count": 13,
     "metadata": {},
     "output_type": "execute_result"
    }
   ],
   "source": [
    "df['location'].unique()"
   ]
  },
  {
   "cell_type": "code",
   "execution_count": 14,
   "id": "be1cd56d-ffa3-4ccb-b90f-abd8c44b878a",
   "metadata": {
    "executionTime": 264,
    "lastSuccessfullyExecutedCode": "df['location'].isnull().value_counts()"
   },
   "outputs": [
    {
     "data": {
      "text/plain": [
       "False    2000\n",
       "Name: location, dtype: int64"
      ]
     },
     "execution_count": 14,
     "metadata": {},
     "output_type": "execute_result"
    }
   ],
   "source": [
    "df['location'].isnull().value_counts()"
   ]
  },
  {
   "cell_type": "markdown",
   "id": "ddd3f8b3-175d-490e-91af-739e5ea6dccc",
   "metadata": {},
   "source": [
    "in this column we can see a consistenci in the format of the values , and after check the null values, we dont need to perform further manipulation"
   ]
  },
  {
   "cell_type": "markdown",
   "id": "179e2d59-d897-47c6-b0ab-214c7f3c0c92",
   "metadata": {},
   "source": [
    "#### individuals_on_claim"
   ]
  },
  {
   "cell_type": "code",
   "execution_count": 15,
   "id": "003a4ff0-6d59-46d9-9354-9c26bcaf1794",
   "metadata": {
    "executionTime": 253,
    "lastSuccessfullyExecutedCode": "df['individuals_on_claim'].isnull().value_counts()"
   },
   "outputs": [
    {
     "data": {
      "text/plain": [
       "False    2000\n",
       "Name: individuals_on_claim, dtype: int64"
      ]
     },
     "execution_count": 15,
     "metadata": {},
     "output_type": "execute_result"
    }
   ],
   "source": [
    "df['individuals_on_claim'].isnull().value_counts()"
   ]
  },
  {
   "cell_type": "markdown",
   "id": "3d41be43-7d19-42c2-8a29-fc25c7247a9f",
   "metadata": {},
   "source": [
    "we have the require format and no null values, no further manipulation is requaried"
   ]
  },
  {
   "cell_type": "markdown",
   "id": "57553590-5654-42ce-b3d0-10164adcf71c",
   "metadata": {},
   "source": [
    "#### linked_cases"
   ]
  },
  {
   "cell_type": "code",
   "execution_count": 16,
   "id": "15c89674-da5d-44ec-b133-ef570c04954a",
   "metadata": {
    "executionTime": 238,
    "lastSuccessfullyExecutedCode": "df['linked_cases'].isnull().value_counts()"
   },
   "outputs": [
    {
     "data": {
      "text/plain": [
       "False    1974\n",
       "True       26\n",
       "Name: linked_cases, dtype: int64"
      ]
     },
     "execution_count": 16,
     "metadata": {},
     "output_type": "execute_result"
    }
   ],
   "source": [
    "df['linked_cases'].isnull().value_counts()"
   ]
  },
  {
   "cell_type": "code",
   "execution_count": 17,
   "id": "08135f2c-ff23-458f-bf37-569562db2f10",
   "metadata": {
    "executionTime": 289,
    "lastSuccessfullyExecutedCode": "df['linked_cases'].unique()"
   },
   "outputs": [
    {
     "data": {
      "text/plain": [
       "array([False, True, nan], dtype=object)"
      ]
     },
     "execution_count": 17,
     "metadata": {},
     "output_type": "execute_result"
    }
   ],
   "source": [
    "df['linked_cases'].unique()"
   ]
  },
  {
   "cell_type": "code",
   "execution_count": 18,
   "id": "3b7797cb-9609-4f26-bedd-0ce0f8f4b327",
   "metadata": {
    "executionTime": 0,
    "lastSuccessfullyExecutedCode": "df['linked_cases'] = df['linked_cases'].replace('nan', False).astype(bool)"
   },
   "outputs": [],
   "source": [
    "df['linked_cases'] = df['linked_cases'].replace('nan', False).astype(bool)"
   ]
  },
  {
   "cell_type": "markdown",
   "id": "a55bb055-0804-4675-acc3-c1e6ab301f92",
   "metadata": {},
   "source": [
    "#### cause"
   ]
  },
  {
   "cell_type": "code",
   "execution_count": 19,
   "id": "54955813-c1a1-4a9e-877a-a84cc948acb3",
   "metadata": {
    "executionTime": 198,
    "lastSuccessfullyExecutedCode": "df['cause'].isnull().value_counts()"
   },
   "outputs": [
    {
     "data": {
      "text/plain": [
       "False    2000\n",
       "Name: cause, dtype: int64"
      ]
     },
     "execution_count": 19,
     "metadata": {},
     "output_type": "execute_result"
    }
   ],
   "source": [
    "df['cause'].isnull().value_counts()"
   ]
  },
  {
   "cell_type": "code",
   "execution_count": 20,
   "id": "60238114-ad79-49fa-890b-fab3fc5fbea5",
   "metadata": {
    "executionTime": 291,
    "lastSuccessfullyExecutedCode": "df['cause'].unique()"
   },
   "outputs": [
    {
     "data": {
      "text/plain": [
       "array(['unknown', 'meat', 'vegetable', ' Meat', 'VEGETABLES'],\n",
       "      dtype=object)"
      ]
     },
     "execution_count": 20,
     "metadata": {},
     "output_type": "execute_result"
    }
   ],
   "source": [
    "df['cause'].unique()"
   ]
  },
  {
   "cell_type": "markdown",
   "id": "42cdc3c0-907c-4460-9e3c-311764b64c4e",
   "metadata": {},
   "source": [
    "we have to replace the format of the values"
   ]
  },
  {
   "cell_type": "code",
   "execution_count": 21,
   "id": "a93624f6-95a7-42d2-8efa-bade765f1639",
   "metadata": {
    "executionTime": 186,
    "lastSuccessfullyExecutedCode": "df['cause'].replace({'Meat': 'meat', 'VEGETABLES': 'vegetable'})"
   },
   "outputs": [
    {
     "data": {
      "text/plain": [
       "0         unknown\n",
       "1         unknown\n",
       "2            meat\n",
       "3            meat\n",
       "4       vegetable\n",
       "          ...    \n",
       "1995         meat\n",
       "1996         meat\n",
       "1997         meat\n",
       "1998         meat\n",
       "1999    vegetable\n",
       "Name: cause, Length: 2000, dtype: object"
      ]
     },
     "execution_count": 21,
     "metadata": {},
     "output_type": "execute_result"
    }
   ],
   "source": [
    "df['cause'].replace({'Meat': 'meat', 'VEGETABLES': 'vegetable'})"
   ]
  },
  {
   "cell_type": "code",
   "execution_count": 22,
   "id": "63ce787e-5ab2-429c-bd64-69a4c3300785",
   "metadata": {
    "executionTime": 234,
    "lastSuccessfullyExecutedCode": "df.info()"
   },
   "outputs": [
    {
     "name": "stdout",
     "output_type": "stream",
     "text": [
      "<class 'pandas.core.frame.DataFrame'>\n",
      "RangeIndex: 2000 entries, 0 to 1999\n",
      "Data columns (total 9 columns):\n",
      " #   Column                Non-Null Count  Dtype  \n",
      "---  ------                --------------  -----  \n",
      " 0   claim_id              2000 non-null   int64  \n",
      " 1   time_to_close         2000 non-null   int64  \n",
      " 2   claim_amount          2000 non-null   float64\n",
      " 3   amount_paid           2000 non-null   float64\n",
      " 4   location              2000 non-null   object \n",
      " 5   individuals_on_claim  2000 non-null   int64  \n",
      " 6   linked_cases          2000 non-null   bool   \n",
      " 7   cause                 2000 non-null   object \n",
      " 8   denomination          2000 non-null   object \n",
      "dtypes: bool(1), float64(2), int64(3), object(3)\n",
      "memory usage: 127.1+ KB\n"
     ]
    }
   ],
   "source": [
    "df.info()"
   ]
  },
  {
   "cell_type": "markdown",
   "id": "643d4c36-4183-4fbe-a263-6b9de60d29da",
   "metadata": {},
   "source": [
    "## Task 2"
   ]
  },
  {
   "cell_type": "markdown",
   "id": "1d5ba38c-1b3a-4f9b-bf38-bb0a62dac346",
   "metadata": {},
   "source": [
    "We can perform a value count to visualize "
   ]
  },
  {
   "cell_type": "code",
   "execution_count": 23,
   "id": "d2d938ea-e24e-443e-9da7-0bc07daf9bfa",
   "metadata": {
    "executionTime": 250,
    "lastSuccessfullyExecutedCode": "counts = df['location'].value_counts()\nplt.bar(counts.index, counts.values)\nplt.show()\nprint(counts)"
   },
   "outputs": [
    {
     "data": {
      "image/png": "[encoded data removed]",
      "text/plain": [
       "<Figure size 640x480 with 1 Axes>"
      ]
     },
     "metadata": {},
     "output_type": "display_data"
    },
    {
     "name": "stdout",
     "output_type": "stream",
     "text": [
      "RECIFE       885\n",
      "SAO LUIS     517\n",
      "FORTALEZA    311\n",
      "NATAL        287\n",
      "Name: location, dtype: int64\n"
     ]
    }
   ],
   "source": [
    "counts = df['location'].value_counts()\n",
    "plt.bar(counts.index, counts.values)\n",
    "plt.show()\n",
    "print(counts)"
   ]
  },
  {
   "cell_type": "markdown",
   "id": "47ec8f80-b929-4c5d-90d9-6c2189db8a86",
   "metadata": {},
   "source": [
    "**We can see that the number of observations for each location is not equal, which means that the observations are not balanced across categories of the variable location.**"
   ]
  },
  {
   "cell_type": "markdown",
   "id": "ce5f6df2-fbf2-4c44-9209-9ee668876b53",
   "metadata": {},
   "source": [
    "## Task 3"
   ]
  },
  {
   "cell_type": "markdown",
   "id": "8fcff247-db49-42c0-8710-51848aeb6347",
   "metadata": {},
   "source": [
    "Firts  take a look of the central tendenci of the time to close comlumn:"
   ]
  },
  {
   "cell_type": "code",
   "execution_count": 24,
   "id": "bfaf67e4-fc30-4325-b25d-c348f8286e42",
   "metadata": {
    "executionTime": 212,
    "lastSuccessfullyExecutedCode": "df['time_to_close'].describe()"
   },
   "outputs": [
    {
     "data": {
      "text/plain": [
       "count    2000.00000\n",
       "mean      185.56800\n",
       "std        49.16339\n",
       "min        76.00000\n",
       "25%       158.00000\n",
       "50%       179.00000\n",
       "75%       204.00000\n",
       "max       518.00000\n",
       "Name: time_to_close, dtype: float64"
      ]
     },
     "execution_count": 24,
     "metadata": {},
     "output_type": "execute_result"
    }
   ],
   "source": [
    "df['time_to_close'].describe()"
   ]
  },
  {
   "cell_type": "code",
   "execution_count": 25,
   "id": "eb872877-aa50-4251-a597-b5e2548a54cc",
   "metadata": {
    "executionTime": 389,
    "lastSuccessfullyExecutedCode": "sns.histplot(data=df, x='time_to_close', bins=100, kde=True)\nplt.show()"
   },
   "outputs": [
    {
     "data": {
      "image/png": "[encoded data removed]",
      "text/plain": [
       "<Figure size 640x480 with 1 Axes>"
      ]
     },
     "metadata": {},
     "output_type": "display_data"
    }
   ],
   "source": [
    "sns.histplot(data=df, x='time_to_close', bins=100, kde=True)\n",
    "plt.show()"
   ]
  },
  {
   "cell_type": "code",
   "execution_count": 26,
   "id": "461b1764-f36d-404e-ba41-cffc6c64b7a5",
   "metadata": {
    "executionTime": 245,
    "lastSuccessfullyExecutedCode": "sns.boxplot(data=df, x='time_to_close')"
   },
   "outputs": [
    {
     "data": {
      "text/plain": [
       "<AxesSubplot:xlabel='time_to_close'>"
      ]
     },
     "execution_count": 26,
     "metadata": {},
     "output_type": "execute_result"
    },
    {
     "data": {
      "image/png": "[encoded data removed]",
      "text/plain": [
       "<Figure size 640x480 with 1 Axes>"
      ]
     },
     "metadata": {},
     "output_type": "display_data"
    }
   ],
   "source": [
    "sns.boxplot(data=df, x='time_to_close')"
   ]
  },
  {
   "cell_type": "markdown",
   "id": "b65510b5-533f-4b2f-b63c-21d1bc381aaf",
   "metadata": {},
   "source": [
    "Based on the central tenenci data and our visualizations we can conclute the following:\n",
    "\n",
    "- Central tendency: The mean (185.568) is higher than the median (179), which indicates that the distribution is slightly right-skewed.\n",
    "\n",
    "- Spread: The standard deviation (49.16339) is moderately high, which suggests that the data points are somewhat spread out from the mean.\n",
    "\n",
    "- Range: The minimum value is 76 and the maximum value is 518, which indicates that the range of values in the dataset is quite large.\n",
    "\n",
    "- Quartiles: The interquartile range (IQR) is the difference between the third quartile (Q3) and the first quartile (Q1). In this case, Q1 is 158, Q3 is 204, and the IQR is 46. This means that the middle 50% of the data falls within the range of 158 to 204.\n",
    "\n",
    "Based on these observations, we can say that the distribution of the data is moderately right-skewed, with a moderately high degree of variability. The range of values in the dataset is quite large, but the majority of the data falls within a relatively narrow range (as indicated by the IQR)."
   ]
  },
  {
   "cell_type": "markdown",
   "id": "c5fbe3a0-d277-437c-a1a0-f1edf80684f7",
   "metadata": {},
   "source": [
    "## Task 4"
   ]
  },
  {
   "cell_type": "markdown",
   "id": "170dd2ea-340f-4ab4-94c8-fe077342e98e",
   "metadata": {},
   "source": [
    "We first create a contingency table of the two variables using the crosstab method in Pandas. We then use the **chi2_contingency** function from the scipy.stats module to calculate the chi-squared statistic and **p-value**. The chi-squared test can be used to test the null hypothesis that there is no association between the two variables. If the p-value is less than a chosen significance level **(0.05)**, we reject the null hypothesis and conclude that there is a statistically significant association between the variables."
   ]
  },
  {
   "cell_type": "code",
   "execution_count": 27,
   "id": "635d91ee-76c4-4269-bf81-d4859f2ded25",
   "metadata": {
    "executionTime": 265,
    "lastSuccessfullyExecutedCode": "cont_table = pd.crosstab(df['time_to_close'], df['location'])\n\nchi2, p, dof, expected = stats.chi2_contingency(cont_table)\nprint(\"Chi-squared statistic: \", chi2)\nprint(\"P-value: \", p)"
   },
   "outputs": [
    {
     "name": "stdout",
     "output_type": "stream",
     "text": [
      "Chi-squared statistic:  804.6980431334908\n",
      "P-value:  0.15509340409403322\n"
     ]
    }
   ],
   "source": [
    "cont_table = pd.crosstab(df['time_to_close'], df['location'])\n",
    "\n",
    "chi2, p, dof, expected = stats.chi2_contingency(cont_table)\n",
    "print(\"Chi-squared statistic: \", chi2)\n",
    "print(\"P-value: \", p)"
   ]
  },
  {
   "cell_type": "markdown",
   "id": "cb7e0aca-8f44-433a-a143-a5a38ee5bf2a",
   "metadata": {},
   "source": [
    "If the chi-squared statistic is 804.698 and the p-value is 0.155, it suggests that there is no statistically significant association between the two variables at the chosen significance level.\n",
    "In this case, the p-value is greater than the chosen significance level (0.05), indicating that we fail to reject the null hypothesis. This means that we do not have enough evidence to conclude that there is a statistically significant association between the two variables."
   ]
  },
  {
   "cell_type": "markdown",
   "id": "366e552e-b7ec-44e8-b34c-9a14809eac78",
   "metadata": {},
   "source": [
    "More over, if in the box plot, the median and interquartile ranges (IQRs) are similar across different categories, it suggests that there may not be a significant relationship between time to close and location. This means that the distribution of time to close is relatively consistent across different locations, and the location variable may not be a significant predictor of the time to close."
   ]
  },
  {
   "cell_type": "code",
   "execution_count": 28,
   "id": "5475ba48-3f2c-4cc3-9555-d8f47efd38e2",
   "metadata": {
    "executionTime": 479,
    "lastSuccessfullyExecutedCode": "sns.boxplot(data=df, x='time_to_close', y='location')"
   },
   "outputs": [
    {
     "data": {
      "text/plain": [
       "<AxesSubplot:xlabel='time_to_close', ylabel='location'>"
      ]
     },
     "execution_count": 28,
     "metadata": {},
     "output_type": "execute_result"
    },
    {
     "data": {
      "image/png": "[encoded data removed]",
      "text/plain": [
       "<Figure size 640x480 with 1 Axes>"
      ]
     },
     "metadata": {},
     "output_type": "display_data"
    }
   ],
   "source": [
    "sns.boxplot(data=df, x='time_to_close', y='location')"
   ]
  },
  {
   "cell_type": "markdown",
   "id": "f635131a-00f8-44dd-b610-509db41c1154",
   "metadata": {
    "tags": []
   },
   "source": [
    "## ✅ When you have finished...\n",
    "-  Publish your Workspace using the option on the left\n",
    "-  Check the published version of your report:\n",
    "\t-  Can you see everything you want us to grade?\n",
    "    -  Are all the graphics visible?\n",
    "-  Review the grading rubric. Have you included everything that will be graded?\n",
    "-  Head back to the [Certification Dashboard](https://app.datacamp.com/certification) to submit your practical exam"
   ]
  },
  {
   "cell_type": "code",
   "execution_count": null,
   "id": "8ab2e945-7fb8-4d48-902a-5d3f0772ef14",
   "metadata": {},
   "outputs": [],
   "source": []
  }
 ],
 "metadata": {
  "colab": {
   "name": "Welcome to DataCamp Workspaces.ipynb",
   "provenance": []
  },
  "kernelspec": {
   "display_name": "Python 3 (ipykernel)",
   "language": "python",
   "name": "python3"
  },
  "language_info": {
   "codemirror_mode": {
    "name": "ipython",
    "version": 3
   },
   "file_extension": ".py",
   "mimetype": "text/x-python",
   "name": "python",
   "nbconvert_exporter": "python",
   "pygments_lexer": "ipython3",
   "version": "3.9.17"
  }
 },
 "nbformat": 4,
 "nbformat_minor": 5
}
