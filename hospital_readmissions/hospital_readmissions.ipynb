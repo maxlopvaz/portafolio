{
 "cells": [
  {
   "cell_type": "markdown",
   "id": "ce525514-2329-44da-b4c6-ac57250abe5a",
   "metadata": {
    "tags": []
   },
   "source": [
    "# Reducing hospital readmissions\n",
    "## Background\n",
    "\n",
    "The next project is for a hospital group to help then to a better understand of patient readmissions. The hospital gave us access to ten years of information on patients readmitted to the hospital after being discharged. The doctors want you to assess if initial diagnoses, number of procedures, or other variables could help them better understand the probability of readmission.\n",
    "\n",
    "They want to focus follow-up calls and attention on those patients with a higher probability of readmission."
   ]
  },
  {
   "cell_type": "code",
   "execution_count": 1,
   "id": "1093e3c3-4ef4-4448-aa53-7fa3a98c21ef",
   "metadata": {},
   "outputs": [],
   "source": [
    "import pandas as pd\n",
    "import numpy as np\n",
    "import seaborn as sns \n",
    "import matplotlib.pyplot as plt"
   ]
  },
  {
   "cell_type": "code",
   "execution_count": 2,
   "id": "0c31eaee-0279-47f3-ac12-6b0fcbec5da8",
   "metadata": {},
   "outputs": [],
   "source": [
    "h = pd.read_csv('hospital_readmissions.csv')"
   ]
  },
  {
   "cell_type": "code",
   "execution_count": 3,
   "id": "c33c7fb2-a8fe-441c-a5b7-14fb4e70be1b",
   "metadata": {},
   "outputs": [
    {
     "data": {
      "text/html": [
       "<div>\n",
       "<style scoped>\n",
       "    .dataframe tbody tr th:only-of-type {\n",
       "        vertical-align: middle;\n",
       "    }\n",
       "\n",
       "    .dataframe tbody tr th {\n",
       "        vertical-align: top;\n",
       "    }\n",
       "\n",
       "    .dataframe thead th {\n",
       "        text-align: right;\n",
       "    }\n",
       "</style>\n",
       "<table border=\"1\" class=\"dataframe\">\n",
       "  <thead>\n",
       "    <tr style=\"text-align: right;\">\n",
       "      <th></th>\n",
       "      <th>age</th>\n",
       "      <th>time_in_hospital</th>\n",
       "      <th>n_lab_procedures</th>\n",
       "      <th>n_procedures</th>\n",
       "      <th>n_medications</th>\n",
       "      <th>n_outpatient</th>\n",
       "      <th>n_inpatient</th>\n",
       "      <th>n_emergency</th>\n",
       "      <th>medical_specialty</th>\n",
       "      <th>diag_1</th>\n",
       "      <th>diag_2</th>\n",
       "      <th>diag_3</th>\n",
       "      <th>glucose_test</th>\n",
       "      <th>A1Ctest</th>\n",
       "      <th>change</th>\n",
       "      <th>diabetes_med</th>\n",
       "      <th>readmitted</th>\n",
       "    </tr>\n",
       "  </thead>\n",
       "  <tbody>\n",
       "    <tr>\n",
       "      <th>0</th>\n",
       "      <td>[70-80)</td>\n",
       "      <td>8</td>\n",
       "      <td>72</td>\n",
       "      <td>1</td>\n",
       "      <td>18</td>\n",
       "      <td>2</td>\n",
       "      <td>0</td>\n",
       "      <td>0</td>\n",
       "      <td>Missing</td>\n",
       "      <td>Circulatory</td>\n",
       "      <td>Respiratory</td>\n",
       "      <td>Other</td>\n",
       "      <td>no</td>\n",
       "      <td>no</td>\n",
       "      <td>no</td>\n",
       "      <td>yes</td>\n",
       "      <td>no</td>\n",
       "    </tr>\n",
       "    <tr>\n",
       "      <th>1</th>\n",
       "      <td>[70-80)</td>\n",
       "      <td>3</td>\n",
       "      <td>34</td>\n",
       "      <td>2</td>\n",
       "      <td>13</td>\n",
       "      <td>0</td>\n",
       "      <td>0</td>\n",
       "      <td>0</td>\n",
       "      <td>Other</td>\n",
       "      <td>Other</td>\n",
       "      <td>Other</td>\n",
       "      <td>Other</td>\n",
       "      <td>no</td>\n",
       "      <td>no</td>\n",
       "      <td>no</td>\n",
       "      <td>yes</td>\n",
       "      <td>no</td>\n",
       "    </tr>\n",
       "    <tr>\n",
       "      <th>2</th>\n",
       "      <td>[50-60)</td>\n",
       "      <td>5</td>\n",
       "      <td>45</td>\n",
       "      <td>0</td>\n",
       "      <td>18</td>\n",
       "      <td>0</td>\n",
       "      <td>0</td>\n",
       "      <td>0</td>\n",
       "      <td>Missing</td>\n",
       "      <td>Circulatory</td>\n",
       "      <td>Circulatory</td>\n",
       "      <td>Circulatory</td>\n",
       "      <td>no</td>\n",
       "      <td>no</td>\n",
       "      <td>yes</td>\n",
       "      <td>yes</td>\n",
       "      <td>yes</td>\n",
       "    </tr>\n",
       "    <tr>\n",
       "      <th>3</th>\n",
       "      <td>[70-80)</td>\n",
       "      <td>2</td>\n",
       "      <td>36</td>\n",
       "      <td>0</td>\n",
       "      <td>12</td>\n",
       "      <td>1</td>\n",
       "      <td>0</td>\n",
       "      <td>0</td>\n",
       "      <td>Missing</td>\n",
       "      <td>Circulatory</td>\n",
       "      <td>Other</td>\n",
       "      <td>Diabetes</td>\n",
       "      <td>no</td>\n",
       "      <td>no</td>\n",
       "      <td>yes</td>\n",
       "      <td>yes</td>\n",
       "      <td>yes</td>\n",
       "    </tr>\n",
       "    <tr>\n",
       "      <th>4</th>\n",
       "      <td>[60-70)</td>\n",
       "      <td>1</td>\n",
       "      <td>42</td>\n",
       "      <td>0</td>\n",
       "      <td>7</td>\n",
       "      <td>0</td>\n",
       "      <td>0</td>\n",
       "      <td>0</td>\n",
       "      <td>InternalMedicine</td>\n",
       "      <td>Other</td>\n",
       "      <td>Circulatory</td>\n",
       "      <td>Respiratory</td>\n",
       "      <td>no</td>\n",
       "      <td>no</td>\n",
       "      <td>no</td>\n",
       "      <td>yes</td>\n",
       "      <td>no</td>\n",
       "    </tr>\n",
       "  </tbody>\n",
       "</table>\n",
       "</div>"
      ],
      "text/plain": [
       "       age  time_in_hospital  n_lab_procedures  n_procedures  n_medications  \\\n",
       "0  [70-80)                 8                72             1             18   \n",
       "1  [70-80)                 3                34             2             13   \n",
       "2  [50-60)                 5                45             0             18   \n",
       "3  [70-80)                 2                36             0             12   \n",
       "4  [60-70)                 1                42             0              7   \n",
       "\n",
       "   n_outpatient  n_inpatient  n_emergency medical_specialty       diag_1  \\\n",
       "0             2            0            0           Missing  Circulatory   \n",
       "1             0            0            0             Other        Other   \n",
       "2             0            0            0           Missing  Circulatory   \n",
       "3             1            0            0           Missing  Circulatory   \n",
       "4             0            0            0  InternalMedicine        Other   \n",
       "\n",
       "        diag_2       diag_3 glucose_test A1Ctest change diabetes_med  \\\n",
       "0  Respiratory        Other           no      no     no          yes   \n",
       "1        Other        Other           no      no     no          yes   \n",
       "2  Circulatory  Circulatory           no      no    yes          yes   \n",
       "3        Other     Diabetes           no      no    yes          yes   \n",
       "4  Circulatory  Respiratory           no      no     no          yes   \n",
       "\n",
       "  readmitted  \n",
       "0         no  \n",
       "1         no  \n",
       "2        yes  \n",
       "3        yes  \n",
       "4         no  "
      ]
     },
     "execution_count": 3,
     "metadata": {},
     "output_type": "execute_result"
    }
   ],
   "source": [
    "h.head()"
   ]
  },
  {
   "cell_type": "markdown",
   "id": "7e502bb1-611d-4afe-947f-98aa3c2b9392",
   "metadata": {},
   "source": [
    "## Tasks\n",
    "\n",
    "Create a report that covers the following:\n",
    "\n",
    "- What is the most common primary diagnosis by age group? Some doctors believe diabetes might play a central role in readmission.\n",
    "- Explore the effect of a diabetes diagnosis on readmission rates.\n",
    "- On what groups of patients should the hospital focus their follow-up efforts to better monitor patients with a high probability of readmission?\n"
   ]
  },
  {
   "cell_type": "markdown",
   "id": "58fb92e9-7675-46fc-83bf-b4ad3711900c",
   "metadata": {
    "tags": []
   },
   "source": [
    "## Data \n",
    "\n",
    "Information in the file\n",
    "- \"age\" - age bracket of the patient\n",
    "- \"time_in_hospital\" - days (from 1 to 14)\n",
    "- \"n_procedures\" - number of procedures performed during the hospital stay\n",
    "- \"n_lab_procedures\" - number of laboratory procedures performed during the hospital stay\n",
    "- \"n_medications\" - number of medications administered during the hospital stay\n",
    "- \"n_outpatient\" - number of outpatient visits in the year before a hospital stay\n",
    "- \"n_inpatient\" - number of inpatient visits in the year before the hospital stay\n",
    "- \"n_emergency\" - number of visits to the emergency room in the year before the hospital stay\n",
    "- \"medical_specialty\" - the specialty of the admitting physician\n",
    "- \"diag_1\" - primary diagnosis (Circulatory, Respiratory, Digestive, etc.)\n",
    "- \"diag_2\" - secondary diagnosis\n",
    "- \"diag_3\" - additional secondary diagnosis\n",
    "- \"glucose_test\" - whether the glucose serum came out as high (> 200), normal, or not performed\n",
    "- \"A1Ctest\" - whether the A1C level of the patient came out as high (> 7%), normal, or not performed\n",
    "- \"change\" - whether there was a change in the diabetes medication ('yes' or 'no')\n",
    "- \"diabetes_med\" - whether a diabetes medication was prescribed ('yes' or 'no')\n",
    "- \"readmitted\" - if the patient was readmitted at the hospital ('yes' or 'no')"
   ]
  },
  {
   "cell_type": "markdown",
   "id": "377f5afc-398d-4e93-a25a-96765acf3e08",
   "metadata": {
    "tags": []
   },
   "source": [
    "## Data Cleaning.\n",
    "\n",
    "Before delving into our analysis, we recognized the paramount importance of data quality. We initiated our investigation by meticulously identifying redundancies, influential values, and potential biases that could impact the statistical robustness of our conclusions. "
   ]
  },
  {
   "cell_type": "markdown",
   "id": "ba8bdf84-2c90-4320-a516-15f84f32c392",
   "metadata": {},
   "source": [
    "### Handling Null Values.\n",
    "\n",
    "Our first line of inquiry led us to explore the presence of null values within the dataset. Missing data can skew results and lead to erroneous interpretations. Through meticulous examination, we identified specific attributes and variables afflicted by null values."
   ]
  },
  {
   "cell_type": "code",
   "execution_count": 4,
   "id": "64aadf8d-b875-4e55-893d-097d3e5f4aeb",
   "metadata": {
    "tags": []
   },
   "outputs": [
    {
     "data": {
      "text/plain": [
       "age                  False\n",
       "time_in_hospital     False\n",
       "n_lab_procedures     False\n",
       "n_procedures         False\n",
       "n_medications        False\n",
       "n_outpatient         False\n",
       "n_inpatient          False\n",
       "n_emergency          False\n",
       "medical_specialty    False\n",
       "diag_1               False\n",
       "diag_2               False\n",
       "diag_3               False\n",
       "glucose_test         False\n",
       "A1Ctest              False\n",
       "change               False\n",
       "diabetes_med         False\n",
       "readmitted           False\n",
       "dtype: bool"
      ]
     },
     "execution_count": 4,
     "metadata": {},
     "output_type": "execute_result"
    }
   ],
   "source": [
    "h.isnull().any()"
   ]
  },
  {
   "cell_type": "markdown",
   "id": "61fd9cbc-8293-4ff7-abf6-a3a38455feeb",
   "metadata": {},
   "source": [
    "### Handling Format and classification of the data.\n",
    "\n",
    "Is important to have a consinten format and a classification of the data that help us to make the representations and plots easy to read:"
   ]
  },
  {
   "cell_type": "code",
   "execution_count": 5,
   "id": "69bdab6a-e513-4f6f-a01e-4cc9a1771ad2",
   "metadata": {
    "tags": []
   },
   "outputs": [
    {
     "name": "stdout",
     "output_type": "stream",
     "text": [
      "<class 'pandas.core.frame.DataFrame'>\n",
      "RangeIndex: 25000 entries, 0 to 24999\n",
      "Data columns (total 17 columns):\n",
      " #   Column             Non-Null Count  Dtype \n",
      "---  ------             --------------  ----- \n",
      " 0   age                25000 non-null  object\n",
      " 1   time_in_hospital   25000 non-null  int64 \n",
      " 2   n_lab_procedures   25000 non-null  int64 \n",
      " 3   n_procedures       25000 non-null  int64 \n",
      " 4   n_medications      25000 non-null  int64 \n",
      " 5   n_outpatient       25000 non-null  int64 \n",
      " 6   n_inpatient        25000 non-null  int64 \n",
      " 7   n_emergency        25000 non-null  int64 \n",
      " 8   medical_specialty  25000 non-null  object\n",
      " 9   diag_1             25000 non-null  object\n",
      " 10  diag_2             25000 non-null  object\n",
      " 11  diag_3             25000 non-null  object\n",
      " 12  glucose_test       25000 non-null  object\n",
      " 13  A1Ctest            25000 non-null  object\n",
      " 14  change             25000 non-null  object\n",
      " 15  diabetes_med       25000 non-null  object\n",
      " 16  readmitted         25000 non-null  object\n",
      "dtypes: int64(7), object(10)\n",
      "memory usage: 3.2+ MB\n"
     ]
    }
   ],
   "source": [
    "h.info()"
   ]
  },
  {
   "cell_type": "code",
   "execution_count": 6,
   "id": "e1c538d0-f1fc-4773-8dea-01b4f5408a8b",
   "metadata": {
    "tags": []
   },
   "outputs": [
    {
     "data": {
      "text/plain": [
       "array(['[70-80)', '[50-60)', '[60-70)', '[40-50)', '[80-90)', '[90-100)'],\n",
       "      dtype=object)"
      ]
     },
     "execution_count": 6,
     "metadata": {},
     "output_type": "execute_result"
    }
   ],
   "source": [
    "h['age'].unique()"
   ]
  },
  {
   "cell_type": "code",
   "execution_count": 7,
   "id": "74ee2834-4103-4cb7-a2c3-fc034e9fd002",
   "metadata": {
    "tags": []
   },
   "outputs": [
    {
     "data": {
      "text/plain": [
       "array(['Missing', 'Other', 'InternalMedicine', 'Family/GeneralPractice',\n",
       "       'Cardiology', 'Surgery', 'Emergency/Trauma'], dtype=object)"
      ]
     },
     "execution_count": 7,
     "metadata": {},
     "output_type": "execute_result"
    }
   ],
   "source": [
    "h['medical_specialty'].unique()"
   ]
  },
  {
   "cell_type": "code",
   "execution_count": 8,
   "id": "d39a2c2d-34b9-4114-9347-3c0dbf79a5a6",
   "metadata": {
    "tags": []
   },
   "outputs": [
    {
     "data": {
      "text/plain": [
       "array(['Circulatory', 'Other', 'Injury', 'Digestive', 'Respiratory',\n",
       "       'Diabetes', 'Musculoskeletal', 'Missing'], dtype=object)"
      ]
     },
     "execution_count": 8,
     "metadata": {},
     "output_type": "execute_result"
    }
   ],
   "source": [
    "h['diag_1'].unique()"
   ]
  },
  {
   "cell_type": "code",
   "execution_count": 9,
   "id": "be7d1b48-4e7b-48b4-b13a-0e8acc9080ca",
   "metadata": {
    "tags": []
   },
   "outputs": [
    {
     "data": {
      "text/plain": [
       "array(['Respiratory', 'Other', 'Circulatory', 'Injury', 'Diabetes',\n",
       "       'Digestive', 'Musculoskeletal', 'Missing'], dtype=object)"
      ]
     },
     "execution_count": 9,
     "metadata": {},
     "output_type": "execute_result"
    }
   ],
   "source": [
    "h['diag_2'].unique()"
   ]
  },
  {
   "cell_type": "code",
   "execution_count": 10,
   "id": "8eea6a9f-eacd-4d39-995e-ed18a53993a7",
   "metadata": {
    "tags": []
   },
   "outputs": [
    {
     "data": {
      "text/plain": [
       "array(['Other', 'Circulatory', 'Diabetes', 'Respiratory', 'Injury',\n",
       "       'Musculoskeletal', 'Digestive', 'Missing'], dtype=object)"
      ]
     },
     "execution_count": 10,
     "metadata": {},
     "output_type": "execute_result"
    }
   ],
   "source": [
    "h['diag_3'].unique()"
   ]
  },
  {
   "cell_type": "code",
   "execution_count": 11,
   "id": "359518fa-5493-4539-9e57-6f8ec267181c",
   "metadata": {
    "tags": []
   },
   "outputs": [
    {
     "data": {
      "text/plain": [
       "array(['no', 'normal', 'high'], dtype=object)"
      ]
     },
     "execution_count": 11,
     "metadata": {},
     "output_type": "execute_result"
    }
   ],
   "source": [
    "h['glucose_test'].unique()"
   ]
  },
  {
   "cell_type": "code",
   "execution_count": 12,
   "id": "7b6c210b-0b1d-41f3-8596-bd72b63aa751",
   "metadata": {
    "tags": []
   },
   "outputs": [
    {
     "data": {
      "text/plain": [
       "array(['no', 'normal', 'high'], dtype=object)"
      ]
     },
     "execution_count": 12,
     "metadata": {},
     "output_type": "execute_result"
    }
   ],
   "source": [
    "h['A1Ctest'].unique()"
   ]
  },
  {
   "cell_type": "code",
   "execution_count": 13,
   "id": "37d4d955-7c16-4903-b7b9-ea323dfae3a7",
   "metadata": {
    "tags": []
   },
   "outputs": [
    {
     "data": {
      "text/plain": [
       "array(['no', 'yes'], dtype=object)"
      ]
     },
     "execution_count": 13,
     "metadata": {},
     "output_type": "execute_result"
    }
   ],
   "source": [
    "h['change'].unique()"
   ]
  },
  {
   "cell_type": "code",
   "execution_count": 14,
   "id": "550dd8ca-5328-4b63-a444-1df8f78ccb2d",
   "metadata": {
    "tags": []
   },
   "outputs": [
    {
     "data": {
      "text/plain": [
       "array(['yes', 'no'], dtype=object)"
      ]
     },
     "execution_count": 14,
     "metadata": {},
     "output_type": "execute_result"
    }
   ],
   "source": [
    "h['diabetes_med'].unique()"
   ]
  },
  {
   "cell_type": "code",
   "execution_count": 15,
   "id": "a2d6e0db-34ac-47a7-8d31-e6059a4a15f4",
   "metadata": {
    "tags": []
   },
   "outputs": [
    {
     "data": {
      "text/plain": [
       "array(['no', 'yes'], dtype=object)"
      ]
     },
     "execution_count": 15,
     "metadata": {},
     "output_type": "execute_result"
    }
   ],
   "source": [
    "h['readmitted'].unique()"
   ]
  },
  {
   "cell_type": "markdown",
   "id": "68d53715-12fb-4900-b550-66a933193e9f",
   "metadata": {},
   "source": [
    "We can see that every column have a consisten format, so we can continue whit the analysis."
   ]
  },
  {
   "cell_type": "markdown",
   "id": "8fa190fc-9d85-4eb8-9a19-e3b6afdedb8d",
   "metadata": {
    "tags": []
   },
   "source": [
    "## Primary Diagnosis by Age Group,"
   ]
  },
  {
   "cell_type": "code",
   "execution_count": 16,
   "id": "cc8fd0a1-4de7-4fde-859e-83bd57ed7ea3",
   "metadata": {
    "tags": []
   },
   "outputs": [
    {
     "data": {
      "image/png": "[encoded data removed]",
      "text/plain": [
       "<Figure size 640x480 with 1 Axes>"
      ]
     },
     "metadata": {},
     "output_type": "display_data"
    }
   ],
   "source": [
    "sns.countplot(data=h, x='age', hue='diag_1')\n",
    "plt.xlabel('Age Group')\n",
    "plt.ylabel('Count')\n",
    "plt.title('Count of Primary Diagnosis by Age Group')\n",
    "plt.xticks(rotation=45)\n",
    "plt.show()"
   ]
  },
  {
   "cell_type": "markdown",
   "id": "163ec791-23da-4db3-b129-deea39ebd7fb",
   "metadata": {},
   "source": [
    "#### Table 1 - Count Age/Diagnosis."
   ]
  },
  {
   "cell_type": "code",
   "execution_count": 17,
   "id": "e97827b6-ae6c-4a3f-abdf-6ae5b8ab3a06",
   "metadata": {
    "tags": []
   },
   "outputs": [
    {
     "name": "stdout",
     "output_type": "stream",
     "text": [
      "diag_1    Circulatory  Diabetes  Digestive  Injury  Missing  Musculoskeletal  \\\n",
      "age                                                                            \n",
      "[40-50)           504       369        271     162        0              100   \n",
      "[50-60)          1256       393        442     273        0              230   \n",
      "[60-70)          1962       385        554     400        1              373   \n",
      "[70-80)          2392       385        585     444        1              373   \n",
      "[80-90)          1482       181        402     321        2              168   \n",
      "[90-100)          228        34         75      66        0                8   \n",
      "\n",
      "diag_1    Other  Respiratory  \n",
      "age                           \n",
      "[40-50)     750          376  \n",
      "[50-60)    1164          694  \n",
      "[60-70)    1402          836  \n",
      "[70-80)    1693          964  \n",
      "[80-90)    1269          691  \n",
      "[90-100)    220          119  \n"
     ]
    }
   ],
   "source": [
    "# Create a cross-tabulation of age and diag_1\n",
    "diag_by_age = pd.crosstab(index=h['age'], columns=h['diag_1'])\n",
    "\n",
    "# Display the cross-tabulation as a table\n",
    "print(diag_by_age)\n"
   ]
  },
  {
   "cell_type": "markdown",
   "id": "5da051a4-b799-4133-b61f-2e86fc51827a",
   "metadata": {},
   "source": [
    "We can observe clearly that the most common diagnosis is **Circulatory**, the next cuestion to our primary diagnosis is to know what is the percentage of readmitions based on these diagnosis."
   ]
  },
  {
   "cell_type": "code",
   "execution_count": 18,
   "id": "92331783-4aca-46cb-80e7-5c49394baeb1",
   "metadata": {
    "tags": []
   },
   "outputs": [],
   "source": [
    "readmitted = h[h['readmitted'] == 'yes']"
   ]
  },
  {
   "cell_type": "markdown",
   "id": "12b34eb5-53ff-4515-9f47-e975e534557c",
   "metadata": {
    "tags": []
   },
   "source": [
    "#### Table 2 - Number of pattiens Readmitted by First Diagnosis."
   ]
  },
  {
   "cell_type": "code",
   "execution_count": 19,
   "id": "4ecbe600-2bbf-4352-abfb-ff68904b49dc",
   "metadata": {
    "tags": []
   },
   "outputs": [
    {
     "data": {
      "text/plain": [
       "diag_1\n",
       "Circulatory        3750\n",
       "Other              2932\n",
       "Respiratory        1806\n",
       "Digestive          1105\n",
       "Diabetes            937\n",
       "Injury              727\n",
       "Musculoskeletal     495\n",
       "Missing               2\n",
       "Name: count, dtype: int64"
      ]
     },
     "execution_count": 19,
     "metadata": {},
     "output_type": "execute_result"
    }
   ],
   "source": [
    "a = readmitted['diag_1'].value_counts()\n",
    "a"
   ]
  },
  {
   "cell_type": "code",
   "execution_count": 20,
   "id": "7fd12e1d-f0f2-4e14-8c65-6bdfe5bab916",
   "metadata": {
    "tags": []
   },
   "outputs": [
    {
     "data": {
      "text/plain": [
       "diag_1\n",
       "Circulatory        7824\n",
       "Other              6498\n",
       "Respiratory        3680\n",
       "Digestive          2329\n",
       "Diabetes           1747\n",
       "Injury             1666\n",
       "Musculoskeletal    1252\n",
       "Missing               4\n",
       "Name: count, dtype: int64"
      ]
     },
     "execution_count": 20,
     "metadata": {},
     "output_type": "execute_result"
    }
   ],
   "source": [
    "o = h['diag_1'].value_counts()\n",
    "o"
   ]
  },
  {
   "cell_type": "code",
   "execution_count": 21,
   "id": "e2c6583c-dab2-4bf8-ae9e-713ddc5ce12e",
   "metadata": {
    "tags": []
   },
   "outputs": [],
   "source": [
    "diag = ['Circulatory', 'Other', 'Respiratory', 'Digestive', 'Diabetes', 'Injury', 'Musculoskeletal', 'Missing']"
   ]
  },
  {
   "cell_type": "code",
   "execution_count": 22,
   "id": "42516ca0-984b-47b6-9ec2-95f9b6477278",
   "metadata": {
    "tags": []
   },
   "outputs": [
    {
     "data": {
      "text/plain": [
       "8"
      ]
     },
     "execution_count": 22,
     "metadata": {},
     "output_type": "execute_result"
    }
   ],
   "source": [
    "len(a)"
   ]
  },
  {
   "cell_type": "code",
   "execution_count": 23,
   "id": "1aa46a06-d21c-49f2-ae4a-8fb4ee844a67",
   "metadata": {
    "tags": []
   },
   "outputs": [],
   "source": [
    "dia = o.tolist()\n",
    "rea = a.tolist()\n",
    "\n",
    "res = [(x*100)/y for x, y in zip(rea, dia)]"
   ]
  },
  {
   "cell_type": "code",
   "execution_count": 24,
   "id": "9a43d5f7-6d4f-4807-9ffc-4f59e22605c6",
   "metadata": {
    "tags": []
   },
   "outputs": [
    {
     "data": {
      "text/plain": [
       "[47.92944785276074,\n",
       " 45.12157586949831,\n",
       " 49.07608695652174,\n",
       " 47.44525547445255,\n",
       " 53.63480251860332,\n",
       " 43.637454981992796,\n",
       " 39.53674121405751,\n",
       " 50.0]"
      ]
     },
     "execution_count": 24,
     "metadata": {},
     "output_type": "execute_result"
    }
   ],
   "source": [
    "res"
   ]
  },
  {
   "cell_type": "code",
   "execution_count": 25,
   "id": "12324bc6-f02e-42d6-9d95-c6bb7f6fa5cc",
   "metadata": {
    "tags": []
   },
   "outputs": [],
   "source": [
    "per = {'diag_1': diag, '%': res}\n",
    "percentages = pd.DataFrame(per)"
   ]
  },
  {
   "cell_type": "code",
   "execution_count": 26,
   "id": "4a527482-6710-4e98-bb10-e34fbdb76be7",
   "metadata": {
    "tags": []
   },
   "outputs": [
    {
     "data": {
      "text/html": [
       "<div>\n",
       "<style scoped>\n",
       "    .dataframe tbody tr th:only-of-type {\n",
       "        vertical-align: middle;\n",
       "    }\n",
       "\n",
       "    .dataframe tbody tr th {\n",
       "        vertical-align: top;\n",
       "    }\n",
       "\n",
       "    .dataframe thead th {\n",
       "        text-align: right;\n",
       "    }\n",
       "</style>\n",
       "<table border=\"1\" class=\"dataframe\">\n",
       "  <thead>\n",
       "    <tr style=\"text-align: right;\">\n",
       "      <th></th>\n",
       "      <th>diag_1</th>\n",
       "      <th>%</th>\n",
       "    </tr>\n",
       "  </thead>\n",
       "  <tbody>\n",
       "    <tr>\n",
       "      <th>0</th>\n",
       "      <td>Circulatory</td>\n",
       "      <td>47.929448</td>\n",
       "    </tr>\n",
       "    <tr>\n",
       "      <th>1</th>\n",
       "      <td>Other</td>\n",
       "      <td>45.121576</td>\n",
       "    </tr>\n",
       "    <tr>\n",
       "      <th>2</th>\n",
       "      <td>Respiratory</td>\n",
       "      <td>49.076087</td>\n",
       "    </tr>\n",
       "    <tr>\n",
       "      <th>3</th>\n",
       "      <td>Digestive</td>\n",
       "      <td>47.445255</td>\n",
       "    </tr>\n",
       "    <tr>\n",
       "      <th>4</th>\n",
       "      <td>Diabetes</td>\n",
       "      <td>53.634803</td>\n",
       "    </tr>\n",
       "    <tr>\n",
       "      <th>5</th>\n",
       "      <td>Injury</td>\n",
       "      <td>43.637455</td>\n",
       "    </tr>\n",
       "    <tr>\n",
       "      <th>6</th>\n",
       "      <td>Musculoskeletal</td>\n",
       "      <td>39.536741</td>\n",
       "    </tr>\n",
       "    <tr>\n",
       "      <th>7</th>\n",
       "      <td>Missing</td>\n",
       "      <td>50.000000</td>\n",
       "    </tr>\n",
       "  </tbody>\n",
       "</table>\n",
       "</div>"
      ],
      "text/plain": [
       "            diag_1          %\n",
       "0      Circulatory  47.929448\n",
       "1            Other  45.121576\n",
       "2      Respiratory  49.076087\n",
       "3        Digestive  47.445255\n",
       "4         Diabetes  53.634803\n",
       "5           Injury  43.637455\n",
       "6  Musculoskeletal  39.536741\n",
       "7          Missing  50.000000"
      ]
     },
     "execution_count": 26,
     "metadata": {},
     "output_type": "execute_result"
    }
   ],
   "source": [
    "percentages"
   ]
  },
  {
   "cell_type": "markdown",
   "id": "a4441976-41cf-4051-8bec-419d6451df0d",
   "metadata": {
    "tags": []
   },
   "source": [
    "These show us than the **Diabetes** has the biggest patient percentage of readmittions based on the first diagnosis."
   ]
  },
  {
   "cell_type": "markdown",
   "id": "6284f367-0962-4130-bba3-023358640cd7",
   "metadata": {
    "tags": []
   },
   "source": [
    "## Diabetes Diagnosis."
   ]
  },
  {
   "cell_type": "markdown",
   "id": "d6374a32-f102-48b2-a5ef-eb9e35060457",
   "metadata": {
    "tags": []
   },
   "source": [
    "We know that the Diabetes has the first diagnoses is the first diagnoses with higher readmittion rate, we can make some further analysis of these assumtion."
   ]
  },
  {
   "cell_type": "code",
   "execution_count": 27,
   "id": "8caf03db-57e0-44b6-ac35-cc4da9398a5a",
   "metadata": {
    "tags": []
   },
   "outputs": [],
   "source": [
    "diabetes_pattient = h[h['diag_1'] == 'Diabetes']"
   ]
  },
  {
   "cell_type": "code",
   "execution_count": 28,
   "id": "41059de1-f705-4581-b53e-2fe6972126df",
   "metadata": {
    "tags": []
   },
   "outputs": [
    {
     "data": {
      "text/html": [
       "<div>\n",
       "<style scoped>\n",
       "    .dataframe tbody tr th:only-of-type {\n",
       "        vertical-align: middle;\n",
       "    }\n",
       "\n",
       "    .dataframe tbody tr th {\n",
       "        vertical-align: top;\n",
       "    }\n",
       "\n",
       "    .dataframe thead th {\n",
       "        text-align: right;\n",
       "    }\n",
       "</style>\n",
       "<table border=\"1\" class=\"dataframe\">\n",
       "  <thead>\n",
       "    <tr style=\"text-align: right;\">\n",
       "      <th></th>\n",
       "      <th>age</th>\n",
       "      <th>time_in_hospital</th>\n",
       "      <th>n_lab_procedures</th>\n",
       "      <th>n_procedures</th>\n",
       "      <th>n_medications</th>\n",
       "      <th>n_outpatient</th>\n",
       "      <th>n_inpatient</th>\n",
       "      <th>n_emergency</th>\n",
       "      <th>medical_specialty</th>\n",
       "      <th>diag_1</th>\n",
       "      <th>diag_2</th>\n",
       "      <th>diag_3</th>\n",
       "      <th>glucose_test</th>\n",
       "      <th>A1Ctest</th>\n",
       "      <th>change</th>\n",
       "      <th>diabetes_med</th>\n",
       "      <th>readmitted</th>\n",
       "    </tr>\n",
       "  </thead>\n",
       "  <tbody>\n",
       "    <tr>\n",
       "      <th>12</th>\n",
       "      <td>[70-80)</td>\n",
       "      <td>8</td>\n",
       "      <td>67</td>\n",
       "      <td>0</td>\n",
       "      <td>21</td>\n",
       "      <td>0</td>\n",
       "      <td>0</td>\n",
       "      <td>0</td>\n",
       "      <td>Other</td>\n",
       "      <td>Diabetes</td>\n",
       "      <td>Circulatory</td>\n",
       "      <td>Other</td>\n",
       "      <td>no</td>\n",
       "      <td>normal</td>\n",
       "      <td>no</td>\n",
       "      <td>yes</td>\n",
       "      <td>no</td>\n",
       "    </tr>\n",
       "    <tr>\n",
       "      <th>18</th>\n",
       "      <td>[40-50)</td>\n",
       "      <td>7</td>\n",
       "      <td>72</td>\n",
       "      <td>0</td>\n",
       "      <td>13</td>\n",
       "      <td>0</td>\n",
       "      <td>0</td>\n",
       "      <td>0</td>\n",
       "      <td>InternalMedicine</td>\n",
       "      <td>Diabetes</td>\n",
       "      <td>Other</td>\n",
       "      <td>Other</td>\n",
       "      <td>no</td>\n",
       "      <td>high</td>\n",
       "      <td>no</td>\n",
       "      <td>yes</td>\n",
       "      <td>yes</td>\n",
       "    </tr>\n",
       "    <tr>\n",
       "      <th>38</th>\n",
       "      <td>[60-70)</td>\n",
       "      <td>1</td>\n",
       "      <td>1</td>\n",
       "      <td>0</td>\n",
       "      <td>5</td>\n",
       "      <td>0</td>\n",
       "      <td>0</td>\n",
       "      <td>0</td>\n",
       "      <td>Emergency/Trauma</td>\n",
       "      <td>Diabetes</td>\n",
       "      <td>Digestive</td>\n",
       "      <td>Other</td>\n",
       "      <td>no</td>\n",
       "      <td>no</td>\n",
       "      <td>no</td>\n",
       "      <td>no</td>\n",
       "      <td>yes</td>\n",
       "    </tr>\n",
       "    <tr>\n",
       "      <th>41</th>\n",
       "      <td>[40-50)</td>\n",
       "      <td>3</td>\n",
       "      <td>67</td>\n",
       "      <td>1</td>\n",
       "      <td>10</td>\n",
       "      <td>0</td>\n",
       "      <td>1</td>\n",
       "      <td>0</td>\n",
       "      <td>InternalMedicine</td>\n",
       "      <td>Diabetes</td>\n",
       "      <td>Diabetes</td>\n",
       "      <td>Other</td>\n",
       "      <td>no</td>\n",
       "      <td>high</td>\n",
       "      <td>no</td>\n",
       "      <td>yes</td>\n",
       "      <td>yes</td>\n",
       "    </tr>\n",
       "    <tr>\n",
       "      <th>57</th>\n",
       "      <td>[50-60)</td>\n",
       "      <td>3</td>\n",
       "      <td>42</td>\n",
       "      <td>0</td>\n",
       "      <td>16</td>\n",
       "      <td>0</td>\n",
       "      <td>3</td>\n",
       "      <td>0</td>\n",
       "      <td>InternalMedicine</td>\n",
       "      <td>Diabetes</td>\n",
       "      <td>Digestive</td>\n",
       "      <td>Other</td>\n",
       "      <td>no</td>\n",
       "      <td>no</td>\n",
       "      <td>no</td>\n",
       "      <td>yes</td>\n",
       "      <td>no</td>\n",
       "    </tr>\n",
       "    <tr>\n",
       "      <th>...</th>\n",
       "      <td>...</td>\n",
       "      <td>...</td>\n",
       "      <td>...</td>\n",
       "      <td>...</td>\n",
       "      <td>...</td>\n",
       "      <td>...</td>\n",
       "      <td>...</td>\n",
       "      <td>...</td>\n",
       "      <td>...</td>\n",
       "      <td>...</td>\n",
       "      <td>...</td>\n",
       "      <td>...</td>\n",
       "      <td>...</td>\n",
       "      <td>...</td>\n",
       "      <td>...</td>\n",
       "      <td>...</td>\n",
       "      <td>...</td>\n",
       "    </tr>\n",
       "    <tr>\n",
       "      <th>24915</th>\n",
       "      <td>[60-70)</td>\n",
       "      <td>6</td>\n",
       "      <td>41</td>\n",
       "      <td>1</td>\n",
       "      <td>24</td>\n",
       "      <td>0</td>\n",
       "      <td>3</td>\n",
       "      <td>0</td>\n",
       "      <td>Missing</td>\n",
       "      <td>Diabetes</td>\n",
       "      <td>Other</td>\n",
       "      <td>Digestive</td>\n",
       "      <td>no</td>\n",
       "      <td>no</td>\n",
       "      <td>yes</td>\n",
       "      <td>yes</td>\n",
       "      <td>yes</td>\n",
       "    </tr>\n",
       "    <tr>\n",
       "      <th>24925</th>\n",
       "      <td>[60-70)</td>\n",
       "      <td>7</td>\n",
       "      <td>43</td>\n",
       "      <td>1</td>\n",
       "      <td>16</td>\n",
       "      <td>0</td>\n",
       "      <td>0</td>\n",
       "      <td>0</td>\n",
       "      <td>Missing</td>\n",
       "      <td>Diabetes</td>\n",
       "      <td>Circulatory</td>\n",
       "      <td>Other</td>\n",
       "      <td>no</td>\n",
       "      <td>no</td>\n",
       "      <td>yes</td>\n",
       "      <td>yes</td>\n",
       "      <td>no</td>\n",
       "    </tr>\n",
       "    <tr>\n",
       "      <th>24926</th>\n",
       "      <td>[60-70)</td>\n",
       "      <td>13</td>\n",
       "      <td>54</td>\n",
       "      <td>1</td>\n",
       "      <td>12</td>\n",
       "      <td>6</td>\n",
       "      <td>0</td>\n",
       "      <td>1</td>\n",
       "      <td>Missing</td>\n",
       "      <td>Diabetes</td>\n",
       "      <td>Other</td>\n",
       "      <td>Respiratory</td>\n",
       "      <td>no</td>\n",
       "      <td>high</td>\n",
       "      <td>yes</td>\n",
       "      <td>yes</td>\n",
       "      <td>no</td>\n",
       "    </tr>\n",
       "    <tr>\n",
       "      <th>24947</th>\n",
       "      <td>[50-60)</td>\n",
       "      <td>2</td>\n",
       "      <td>1</td>\n",
       "      <td>0</td>\n",
       "      <td>15</td>\n",
       "      <td>0</td>\n",
       "      <td>0</td>\n",
       "      <td>0</td>\n",
       "      <td>Family/GeneralPractice</td>\n",
       "      <td>Diabetes</td>\n",
       "      <td>Circulatory</td>\n",
       "      <td>Circulatory</td>\n",
       "      <td>no</td>\n",
       "      <td>no</td>\n",
       "      <td>yes</td>\n",
       "      <td>yes</td>\n",
       "      <td>no</td>\n",
       "    </tr>\n",
       "    <tr>\n",
       "      <th>24971</th>\n",
       "      <td>[70-80)</td>\n",
       "      <td>13</td>\n",
       "      <td>59</td>\n",
       "      <td>3</td>\n",
       "      <td>22</td>\n",
       "      <td>0</td>\n",
       "      <td>0</td>\n",
       "      <td>0</td>\n",
       "      <td>Emergency/Trauma</td>\n",
       "      <td>Diabetes</td>\n",
       "      <td>Other</td>\n",
       "      <td>Other</td>\n",
       "      <td>no</td>\n",
       "      <td>no</td>\n",
       "      <td>yes</td>\n",
       "      <td>yes</td>\n",
       "      <td>yes</td>\n",
       "    </tr>\n",
       "  </tbody>\n",
       "</table>\n",
       "<p>1747 rows × 17 columns</p>\n",
       "</div>"
      ],
      "text/plain": [
       "           age  time_in_hospital  n_lab_procedures  n_procedures  \\\n",
       "12     [70-80)                 8                67             0   \n",
       "18     [40-50)                 7                72             0   \n",
       "38     [60-70)                 1                 1             0   \n",
       "41     [40-50)                 3                67             1   \n",
       "57     [50-60)                 3                42             0   \n",
       "...        ...               ...               ...           ...   \n",
       "24915  [60-70)                 6                41             1   \n",
       "24925  [60-70)                 7                43             1   \n",
       "24926  [60-70)                13                54             1   \n",
       "24947  [50-60)                 2                 1             0   \n",
       "24971  [70-80)                13                59             3   \n",
       "\n",
       "       n_medications  n_outpatient  n_inpatient  n_emergency  \\\n",
       "12                21             0            0            0   \n",
       "18                13             0            0            0   \n",
       "38                 5             0            0            0   \n",
       "41                10             0            1            0   \n",
       "57                16             0            3            0   \n",
       "...              ...           ...          ...          ...   \n",
       "24915             24             0            3            0   \n",
       "24925             16             0            0            0   \n",
       "24926             12             6            0            1   \n",
       "24947             15             0            0            0   \n",
       "24971             22             0            0            0   \n",
       "\n",
       "            medical_specialty    diag_1       diag_2       diag_3  \\\n",
       "12                      Other  Diabetes  Circulatory        Other   \n",
       "18           InternalMedicine  Diabetes        Other        Other   \n",
       "38           Emergency/Trauma  Diabetes    Digestive        Other   \n",
       "41           InternalMedicine  Diabetes     Diabetes        Other   \n",
       "57           InternalMedicine  Diabetes    Digestive        Other   \n",
       "...                       ...       ...          ...          ...   \n",
       "24915                 Missing  Diabetes        Other    Digestive   \n",
       "24925                 Missing  Diabetes  Circulatory        Other   \n",
       "24926                 Missing  Diabetes        Other  Respiratory   \n",
       "24947  Family/GeneralPractice  Diabetes  Circulatory  Circulatory   \n",
       "24971        Emergency/Trauma  Diabetes        Other        Other   \n",
       "\n",
       "      glucose_test A1Ctest change diabetes_med readmitted  \n",
       "12              no  normal     no          yes         no  \n",
       "18              no    high     no          yes        yes  \n",
       "38              no      no     no           no        yes  \n",
       "41              no    high     no          yes        yes  \n",
       "57              no      no     no          yes         no  \n",
       "...            ...     ...    ...          ...        ...  \n",
       "24915           no      no    yes          yes        yes  \n",
       "24925           no      no    yes          yes         no  \n",
       "24926           no    high    yes          yes         no  \n",
       "24947           no      no    yes          yes         no  \n",
       "24971           no      no    yes          yes        yes  \n",
       "\n",
       "[1747 rows x 17 columns]"
      ]
     },
     "execution_count": 28,
     "metadata": {},
     "output_type": "execute_result"
    }
   ],
   "source": [
    "diabetes_pattient"
   ]
  },
  {
   "cell_type": "markdown",
   "id": "23112172-f5e7-42e2-99e5-af8b58d0536f",
   "metadata": {},
   "source": [
    "### Age Groups with Diabetes."
   ]
  },
  {
   "cell_type": "code",
   "execution_count": 29,
   "id": "84f560c7-ee48-40f1-a9ef-ff9ede7a0298",
   "metadata": {
    "tags": []
   },
   "outputs": [
    {
     "data": {
      "image/png": "[encoded data removed]",
      "text/plain": [
       "<Figure size 640x480 with 1 Axes>"
      ]
     },
     "metadata": {},
     "output_type": "display_data"
    }
   ],
   "source": [
    "sns.countplot(data=diabetes_pattient, x='age', hue='readmitted')\n",
    "plt.xlabel('Age Group')\n",
    "plt.ylabel('Count')\n",
    "plt.title('Count of Diabetes Diagnosis by Age Group (Readmitted)')\n",
    "plt.xticks(rotation=45)\n",
    "plt.show()"
   ]
  },
  {
   "cell_type": "markdown",
   "id": "1fe16a68-9896-4fca-924f-442c87909829",
   "metadata": {},
   "source": [
    "We can see that in all ages groups thee pattients readmitted once the first diagnosis is diabates is higher that the no readmitted."
   ]
  },
  {
   "cell_type": "markdown",
   "id": "78f5572b-54a5-4721-9545-3146d29ba72c",
   "metadata": {},
   "source": [
    "Now lets see what is the percentage of patients who take diabetes medicine are readmited"
   ]
  },
  {
   "cell_type": "code",
   "execution_count": 30,
   "id": "56f19104-58ea-4510-a724-70e2bb99101f",
   "metadata": {
    "tags": []
   },
   "outputs": [
    {
     "data": {
      "image/png": "[encoded data removed]",
      "text/plain": [
       "<Figure size 640x480 with 1 Axes>"
      ]
     },
     "metadata": {},
     "output_type": "display_data"
    }
   ],
   "source": [
    "sns.countplot(data=diabetes_pattient, x='readmitted', hue='diabetes_med')\n",
    "plt.xlabel('Readmitted')\n",
    "plt.ylabel('Count')\n",
    "plt.title('Count Patients Readmitted with Diabetes Medicine.')\n",
    "plt.show()"
   ]
  },
  {
   "cell_type": "markdown",
   "id": "a2f946a6-52b4-4147-889c-6bfe105f393f",
   "metadata": {
    "tags": []
   },
   "source": [
    "since these plor dont show us a clear pattern, we establish the percentage of pattients who where readmitted:"
   ]
  },
  {
   "cell_type": "code",
   "execution_count": 31,
   "id": "ae05d48c-6f98-499b-8c39-867c9d5bbb89",
   "metadata": {
    "tags": []
   },
   "outputs": [],
   "source": [
    "total_pattients = diabetes_pattient['diag_1'].value_counts()"
   ]
  },
  {
   "cell_type": "code",
   "execution_count": 32,
   "id": "996d9f8d-77ee-4b34-942a-a0bdfb7576f4",
   "metadata": {
    "tags": []
   },
   "outputs": [
    {
     "name": "stdout",
     "output_type": "stream",
     "text": [
      "The percentage of patients readmitted and with diabetes medication is 44.88%\n",
      "The percentage of patients readmitted and no diabetes medication is 6.87%\n",
      "The percentage of patients no readmitted and with diabetes medication is 39.50%\n",
      "The percentage of patients no readmitted and with no diabetes medication is 6.87%\n"
     ]
    },
    {
     "name": "stderr",
     "output_type": "stream",
     "text": [
      "/tmp/ipykernel_7160/553721277.py:17: FutureWarning: Calling int on a single element Series is deprecated and will raise a TypeError in the future. Use int(ser.iloc[0]) instead\n",
      "  yy_p = (int(yy) * 100) / int(total_pattients)\n",
      "/tmp/ipykernel_7160/553721277.py:18: FutureWarning: Calling int on a single element Series is deprecated and will raise a TypeError in the future. Use int(ser.iloc[0]) instead\n",
      "  yn_p = (int(yn) * 100) / int(total_pattients)\n",
      "/tmp/ipykernel_7160/553721277.py:19: FutureWarning: Calling int on a single element Series is deprecated and will raise a TypeError in the future. Use int(ser.iloc[0]) instead\n",
      "  ny_p = (int(ny) * 100) / int(total_pattients)\n",
      "/tmp/ipykernel_7160/553721277.py:20: FutureWarning: Calling int on a single element Series is deprecated and will raise a TypeError in the future. Use int(ser.iloc[0]) instead\n",
      "  nn_p = (int(yn) * 100) / int(total_pattients)\n"
     ]
    }
   ],
   "source": [
    "# Count of pattients readmitted with diabetes medicine\n",
    "yy = diabetes_pattient[(diabetes_pattient['readmitted'] == 'yes') & (diabetes_pattient['diabetes_med'] == 'yes')]['readmitted'].value_counts()\n",
    "\n",
    "# Count of pattients readmitted with no diabetes medicine\n",
    "yn = diabetes_pattient[(diabetes_pattient['readmitted'] == 'yes') & (diabetes_pattient['diabetes_med'] == 'no')]['readmitted'].value_counts()\n",
    "\n",
    "# Count of pattients no readmitted with diabetes medicine\n",
    "ny = diabetes_pattient[(diabetes_pattient['readmitted'] == 'no') & (diabetes_pattient['diabetes_med'] == 'yes')]['readmitted'].value_counts()\n",
    "\n",
    "# Count of pattienss no readmitted with no diabetes medicine\n",
    "yn = diabetes_pattient[(diabetes_pattient['readmitted'] == 'no') & (diabetes_pattient['diabetes_med'] == 'no')]['readmitted'].value_counts()\n",
    "\n",
    "\n",
    "# Percentages\n",
    "total_pattients = diabetes_pattient['diag_1'].value_counts()\n",
    "\n",
    "yy_p = (int(yy) * 100) / int(total_pattients)\n",
    "yn_p = (int(yn) * 100) / int(total_pattients)\n",
    "ny_p = (int(ny) * 100) / int(total_pattients)\n",
    "nn_p = (int(yn) * 100) / int(total_pattients)\n",
    "\n",
    "print(f'The percentage of patients readmitted and with diabetes medication is {yy_p:.2f}%')\n",
    "print(f'The percentage of patients readmitted and no diabetes medication is {yn_p:.2f}%')\n",
    "print(f'The percentage of patients no readmitted and with diabetes medication is {ny_p:.2f}%')\n",
    "print(f'The percentage of patients no readmitted and with no diabetes medication is {nn_p:.2f}%')\n"
   ]
  },
  {
   "cell_type": "markdown",
   "id": "1ceb7fc7-f816-4450-889d-ce87f505607b",
   "metadata": {},
   "source": [
    "- **The percentage of patients readmitted and with diabetes medication is 44.88%**: \n",
    "\n",
    "This suggests that a significant portion of patients who are readmitted to the hospital are also taking diabetes medication. It may indicate that diabetes management could be a factor contributing to readmissions, and further investigation into the effectiveness of diabetes treatment and management is warranted.\n",
    "\n",
    "- **The percentage of patients readmitted and no diabetes medication is 6.87%**: \n",
    "\n",
    "This percentage is relatively low compared to the previous category. It implies that there are patients who are readmitted without taking diabetes medication. The reasons for readmission in this group could be related to factors other than diabetes, and it's essential to identify these factors for better patient care.\n",
    "\n",
    "- **The percentage of patients not readmitted and with diabetes medication is 39.50%**: \n",
    "\n",
    "A significant proportion of patients who are not readmitted are taking diabetes medication. This suggests that diabetes management might be effective in reducing readmissions, as a lower percentage of patients in this category are readmitted.\n",
    "\n",
    "- **The percentage of patients not readmitted and with no diabetes medication is 6.87%**: \n",
    "\n",
    "Similar to the second category, this percentage is relatively low. It indicates that some patients who are not readmitted are not taking diabetes medication. The reasons for not taking medication could be diverse, and it's important to understand why some patients in this group are not receiving diabetes treatment.\n",
    "\n",
    "In summary, these percentages highlight the relationship between readmission, diabetes medication, and patient outcomes. They suggest that diabetes management may have an impact on readmission rates, and healthcare providers should pay attention to patients with diabetes, ensuring they receive appropriate care and medication to potentially reduce the risk of readmission. Additionally, further analysis and investigation may be necessary to uncover the specific factors contributing to readmissions in different patient groups."
   ]
  },
  {
   "cell_type": "markdown",
   "id": "44398425-6115-48e5-beed-dcc2ba85c5f0",
   "metadata": {},
   "source": [
    "### Time in the Hospital."
   ]
  },
  {
   "cell_type": "code",
   "execution_count": 33,
   "id": "8251841e-df1a-4b3b-99f7-4b79df4be246",
   "metadata": {},
   "outputs": [
    {
     "data": {
      "image/png": "[encoded data removed]",
      "text/plain": [
       "<Figure size 640x480 with 1 Axes>"
      ]
     },
     "metadata": {},
     "output_type": "display_data"
    }
   ],
   "source": [
    "sns.histplot(data=diabetes_pattient, x='time_in_hospital', hue='readmitted', multiple=\"stack\", edgecolor=\".3\", linewidth=.5)\n",
    "plt.xlabel('Time in the Hospital')\n",
    "plt.ylabel('Count')\n",
    "plt.title('Time in the hospital of the Readmitted and no Readmitted pattients with Diabetes')\n",
    "plt.show()"
   ]
  },
  {
   "cell_type": "code",
   "execution_count": 34,
   "id": "d6220a00-49d7-4d3d-a30f-1002ffffe438",
   "metadata": {
    "tags": []
   },
   "outputs": [
    {
     "data": {
      "image/png": "[encoded data removed]",
      "text/plain": [
       "<Figure size 640x480 with 1 Axes>"
      ]
     },
     "metadata": {},
     "output_type": "display_data"
    }
   ],
   "source": [
    "sns.histplot(data=diabetes_pattient, x='time_in_hospital', hue='diabetes_med', multiple=\"stack\", edgecolor=\".3\", linewidth=.5)\n",
    "plt.xlabel('Time in the Hospital')\n",
    "plt.ylabel('Count')\n",
    "plt.show()\n"
   ]
  },
  {
   "cell_type": "code",
   "execution_count": 35,
   "id": "57eef6c5-b0e6-4389-a504-ecc5acab8bf4",
   "metadata": {
    "tags": []
   },
   "outputs": [
    {
     "data": {
      "text/plain": [
       "4.807097882083572"
      ]
     },
     "execution_count": 35,
     "metadata": {},
     "output_type": "execute_result"
    }
   ],
   "source": [
    "diabetes_pattient['time_in_hospital'].mean()"
   ]
  },
  {
   "cell_type": "code",
   "execution_count": 36,
   "id": "5a605207-2d01-4ca6-b04a-682abc913256",
   "metadata": {
    "tags": []
   },
   "outputs": [
    {
     "data": {
      "image/png": "[encoded data removed]",
      "text/plain": [
       "<Figure size 640x480 with 1 Axes>"
      ]
     },
     "metadata": {},
     "output_type": "display_data"
    }
   ],
   "source": [
    "sns.histplot(data=diabetes_pattient, x='time_in_hospital', hue='glucose_test', multiple=\"stack\", edgecolor=\".3\", linewidth=.5)\n",
    "plt.xlabel('Time in the Hospital')\n",
    "plt.ylabel('Count')\n",
    "plt.title('Glucosa Test / Time in Hospital')\n",
    "plt.show()"
   ]
  },
  {
   "cell_type": "code",
   "execution_count": 37,
   "id": "1fff2053-66ce-42ca-bc02-8595986ba7e7",
   "metadata": {
    "tags": []
   },
   "outputs": [
    {
     "data": {
      "image/png": "[encoded data removed]",
      "text/plain": [
       "<Figure size 640x480 with 1 Axes>"
      ]
     },
     "metadata": {},
     "output_type": "display_data"
    }
   ],
   "source": [
    "sns.histplot(data=diabetes_pattient, x='time_in_hospital', hue='A1Ctest', multiple=\"stack\", edgecolor=\".3\", linewidth=.5)\n",
    "plt.xlabel('Time in the Hospital')\n",
    "plt.ylabel('Count')\n",
    "plt.title('A1C Test / Time in Hospital')\n",
    "plt.show()\n"
   ]
  },
  {
   "cell_type": "markdown",
   "id": "4c165a81-875e-45be-87e5-b61c51e45afd",
   "metadata": {},
   "source": [
    "Based on the observation that the diabetes patients spend a mean of 4.8 hours in the hospital, and that most of them do not undergo glucose or A1C tests, some preliminary conclusions can be drawn:\n",
    "\n",
    " - **Hospital Stay Duration:** Most diabetes patients appear to have a relatively short hospital stay, ranging from 1 to 5 hours. This could indicate that their conditions are manageable within a short period or that they are in the hospital for reasons not directly related to their diabetes.\n",
    "\n",
    " - **Diabetes Medication:** Despite the presence of diabetes in most of these patients, it's important to note that not all of them receive diabetes medication during their stay. This could be due to various factors, such as the type of diabetes, the severity of the disease, or hospital treatment policies.\n",
    "\n",
    "- **Glucose and A1C Tests:** The lack of glucose and A1C tests in the majority of diabetes patients is a concern. These tests are essential for assessing and controlling blood sugar levels, which is crucial for effective diabetes management. The absence of these tests could indicate an opportunity for improvement in the healthcare provided to these patients.\n",
    "\n",
    "However, it's important to emphasize that these are preliminary conclusions, It's also essential to consider other factors, such as hospital policies, treatment protocols, and individual patient needs. Therefore, conducting a deeper analysis and consulting with medical professionals is recommended to make informed decisions regarding the care of diabetes patients in the hospital."
   ]
  },
  {
   "cell_type": "markdown",
   "id": "095f7f6c-8104-4b02-a24d-27deccecb5e5",
   "metadata": {},
   "source": [
    "### Laboratory Procedures."
   ]
  },
  {
   "cell_type": "code",
   "execution_count": 38,
   "id": "7491e3ad-bde1-4919-8f3b-565cd5a132cb",
   "metadata": {
    "tags": []
   },
   "outputs": [
    {
     "data": {
      "image/png": "[encoded data removed]",
      "text/plain": [
       "<Figure size 640x480 with 1 Axes>"
      ]
     },
     "metadata": {},
     "output_type": "display_data"
    }
   ],
   "source": [
    "sns.histplot(data=diabetes_pattient, x='n_lab_procedures', hue='readmitted', multiple='dodge')\n",
    "plt.xlabel('# Laboratory Procedures')\n",
    "plt.ylabel('Count')\n",
    "plt.title('Laboratory Procedures pattiens with Diabetes (Readmitted)')\n",
    "plt.show()"
   ]
  },
  {
   "cell_type": "code",
   "execution_count": 39,
   "id": "db0e3843-4617-495a-acbb-bbad0ab9ce72",
   "metadata": {
    "tags": []
   },
   "outputs": [
    {
     "name": "stdout",
     "output_type": "stream",
     "text": [
      "No hay evidencia de diferencia significativa en la cantidad de procedimientos.\n"
     ]
    },
    {
     "name": "stderr",
     "output_type": "stream",
     "text": [
      "/home/mlefair/anaconda3/lib/python3.9/site-packages/scipy/stats/_stats_py.py:7030: RuntimeWarning: invalid value encountered in scalar divide\n",
      "  svar = ((n1 - 1) * v1 + (n2 - 1) * v2) / df\n"
     ]
    }
   ],
   "source": [
    "import scipy.stats as stats\n",
    "\n",
    "# Supongamos que tienes dos listas de datos: 'procedimientos_diabetes_readmitidos' y 'procedimientos_diabetes_no_readmitidos'\n",
    "# Cada lista contiene la cantidad de procedimientos de laboratorio para los dos grupos respectivamente.\n",
    "procedimientos_diabetes_readmitidos = diabetes_pattient[diabetes_pattient['readmitted'] == 'yes']['n_lab_procedures'].mean()\n",
    "procedimientos_diabetes_no_readmitidos = diabetes_pattient[diabetes_pattient['readmitted'] == 'no']['n_lab_procedures'].mean()\n",
    "\n",
    "# Realiza la prueba t de Student para comparar las medias\n",
    "t_stat, p_value = stats.ttest_ind(procedimientos_diabetes_readmitidos, procedimientos_diabetes_no_readmitidos)\n",
    "\n",
    "# Define el nivel de significancia (alfa)\n",
    "alpha = 0.05\n",
    "\n",
    "# Compara el valor p con el nivel de significancia\n",
    "if p_value < alpha:\n",
    "    print(\"Hay evidencia de diferencia significativa en la cantidad de procedimientos.\")\n",
    "else:\n",
    "    print(\"No hay evidencia de diferencia significativa en la cantidad de procedimientos.\")\n"
   ]
  },
  {
   "cell_type": "code",
   "execution_count": 40,
   "id": "2b0e8266-fcbe-4ddd-95df-dc1d7dc72b43",
   "metadata": {
    "tags": []
   },
   "outputs": [
    {
     "data": {
      "image/png": "[encoded data removed]",
      "text/plain": [
       "<Figure size 608.861x500 with 1 Axes>"
      ]
     },
     "metadata": {},
     "output_type": "display_data"
    }
   ],
   "source": [
    "sns.displot(data=diabetes_pattient, x='n_lab_procedures', hue='diabetes_med', multiple='dodge')\n",
    "plt.xlabel('# Laboratory Procedures')\n",
    "plt.ylabel('Count')\n",
    "plt.title('Number of Laboratory Procedures of Pattients with Diabetes Medication')\n",
    "plt.show()\n"
   ]
  },
  {
   "cell_type": "markdown",
   "id": "310f4b96-1fa6-46e3-8d24-a5afebdad581",
   "metadata": {},
   "source": [
    "### Medications."
   ]
  },
  {
   "cell_type": "code",
   "execution_count": 41,
   "id": "dba13a50-eeaa-4815-ba63-35c14be453a1",
   "metadata": {
    "tags": []
   },
   "outputs": [
    {
     "data": {
      "image/png": "[encoded data removed]",
      "text/plain": [
       "<Figure size 640x480 with 1 Axes>"
      ]
     },
     "metadata": {},
     "output_type": "display_data"
    }
   ],
   "source": [
    "sns.histplot(data=diabetes_pattient, x='n_medications', hue='readmitted', multiple=\"dodge\")\n",
    "plt.xlabel('Number of Medications')\n",
    "plt.ylabel('Count')\n",
    "plt.title('Medications taken by pattiens with Diabetes (Readmitted)')\n",
    "plt.show()"
   ]
  },
  {
   "cell_type": "code",
   "execution_count": 42,
   "id": "89928e09-e4a4-406e-a03d-60f4644167c6",
   "metadata": {
    "tags": []
   },
   "outputs": [
    {
     "data": {
      "text/plain": [
       "<Axes: xlabel='n_medications', ylabel='Count'>"
      ]
     },
     "execution_count": 42,
     "metadata": {},
     "output_type": "execute_result"
    },
    {
     "data": {
      "image/png": "[encoded data removed]",
      "text/plain": [
       "<Figure size 640x480 with 1 Axes>"
      ]
     },
     "metadata": {},
     "output_type": "display_data"
    }
   ],
   "source": [
    "sns.histplot(data=diabetes_pattient, x='n_medications', hue='diabetes_med', multiple=\"dodge\")\n"
   ]
  },
  {
   "cell_type": "markdown",
   "id": "a69ad579-6b6d-4f73-836d-283d6e5cf7b2",
   "metadata": {},
   "source": [
    "### Relation between Glucosa Test and A1C Test with readmittions."
   ]
  },
  {
   "cell_type": "markdown",
   "id": "b8dc2f27-f562-4f08-986a-c96a439ef267",
   "metadata": {},
   "source": [
    "From the **Table - Glucosa Test / Time in Hospital** and **Table - A1C Test / Time in Hospital** we can see that the mayoriti of the pattients does not have been performet these test, so  need to see if there is any relation betweeen these and the rate of readmitions. "
   ]
  },
  {
   "cell_type": "code",
   "execution_count": 43,
   "id": "2f6a9c4d-7f08-4440-98ef-efb5e85ffce2",
   "metadata": {
    "tags": []
   },
   "outputs": [],
   "source": [
    "glucose_no = diabetes_pattient[diabetes_pattient['glucose_test'] == 'no']\n",
    "glucose_normal = diabetes_pattient[diabetes_pattient['glucose_test'] == 'normal']\n",
    "glucose_high = diabetes_pattient[diabetes_pattient['glucose_test'] == 'high']"
   ]
  },
  {
   "cell_type": "code",
   "execution_count": 44,
   "id": "2679e969-cfa8-4d4e-bea1-05321714aec3",
   "metadata": {
    "tags": []
   },
   "outputs": [
    {
     "data": {
      "text/plain": [
       "readmitted\n",
       "yes    876\n",
       "no     771\n",
       "Name: count, dtype: int64"
      ]
     },
     "execution_count": 44,
     "metadata": {},
     "output_type": "execute_result"
    }
   ],
   "source": [
    "glucose_no['readmitted'].value_counts()"
   ]
  },
  {
   "cell_type": "code",
   "execution_count": 45,
   "id": "42a1d51e-1d79-467a-9741-7811b47143dc",
   "metadata": {
    "tags": []
   },
   "outputs": [
    {
     "data": {
      "text/plain": [
       "readmitted\n",
       "yes    19\n",
       "no     17\n",
       "Name: count, dtype: int64"
      ]
     },
     "execution_count": 45,
     "metadata": {},
     "output_type": "execute_result"
    }
   ],
   "source": [
    "glucose_normal['readmitted'].value_counts()"
   ]
  },
  {
   "cell_type": "code",
   "execution_count": 46,
   "id": "3e0eabd5-fd60-4713-addb-253004e669e2",
   "metadata": {
    "tags": []
   },
   "outputs": [
    {
     "data": {
      "text/plain": [
       "readmitted\n",
       "yes    42\n",
       "no     22\n",
       "Name: count, dtype: int64"
      ]
     },
     "execution_count": 46,
     "metadata": {},
     "output_type": "execute_result"
    }
   ],
   "source": [
    "glucose_high['readmitted'].value_counts()"
   ]
  },
  {
   "cell_type": "markdown",
   "id": "cd5fe274-e712-4840-ab70-6c2cf9450dd9",
   "metadata": {},
   "source": [
    "from these results is clear that when the glucose test are high, the pattients readmitted is the double than pattients not readmitted, lets see if there is a stadistical significance in these samples:"
   ]
  },
  {
   "cell_type": "code",
   "execution_count": 51,
   "id": "8404bbe0-d535-4e22-8e62-971693e7feaf",
   "metadata": {
    "tags": []
   },
   "outputs": [],
   "source": [
    "contingency_table_glucose = pd.crosstab(diabetes_pattient['readmitted'], diabetes_pattient['glucose_test'])\n"
   ]
  },
  {
   "cell_type": "code",
   "execution_count": 52,
   "id": "04ddc2bd-07fb-4ac1-9445-47675a4ba83d",
   "metadata": {},
   "outputs": [
    {
     "data": {
      "text/html": [
       "<div>\n",
       "<style scoped>\n",
       "    .dataframe tbody tr th:only-of-type {\n",
       "        vertical-align: middle;\n",
       "    }\n",
       "\n",
       "    .dataframe tbody tr th {\n",
       "        vertical-align: top;\n",
       "    }\n",
       "\n",
       "    .dataframe thead th {\n",
       "        text-align: right;\n",
       "    }\n",
       "</style>\n",
       "<table border=\"1\" class=\"dataframe\">\n",
       "  <thead>\n",
       "    <tr style=\"text-align: right;\">\n",
       "      <th>glucose_test</th>\n",
       "      <th>high</th>\n",
       "      <th>no</th>\n",
       "      <th>normal</th>\n",
       "    </tr>\n",
       "    <tr>\n",
       "      <th>readmitted</th>\n",
       "      <th></th>\n",
       "      <th></th>\n",
       "      <th></th>\n",
       "    </tr>\n",
       "  </thead>\n",
       "  <tbody>\n",
       "    <tr>\n",
       "      <th>no</th>\n",
       "      <td>22</td>\n",
       "      <td>771</td>\n",
       "      <td>17</td>\n",
       "    </tr>\n",
       "    <tr>\n",
       "      <th>yes</th>\n",
       "      <td>42</td>\n",
       "      <td>876</td>\n",
       "      <td>19</td>\n",
       "    </tr>\n",
       "  </tbody>\n",
       "</table>\n",
       "</div>"
      ],
      "text/plain": [
       "glucose_test  high   no  normal\n",
       "readmitted                     \n",
       "no              22  771      17\n",
       "yes             42  876      19"
      ]
     },
     "execution_count": 52,
     "metadata": {},
     "output_type": "execute_result"
    }
   ],
   "source": [
    "contingency_table_glucose"
   ]
  },
  {
   "cell_type": "code",
   "execution_count": 56,
   "id": "941deb26-f746-48ff-b8fa-1809e7fc6c87",
   "metadata": {
    "tags": []
   },
   "outputs": [
    {
     "name": "stdout",
     "output_type": "stream",
     "text": [
      "Valor de chi-cuadrado: 3.843011005646301\n",
      "Valor p: 0.1463864109968038\n",
      "No significant association was found between the groups of readmitted pattients and glucose levels.\n"
     ]
    }
   ],
   "source": [
    "chi2, p, _, _ = stats.chi2_contingency(contingency_table_glucose)\n",
    "\n",
    "print(\"Valor de chi-cuadrado:\", chi2)\n",
    "print(\"Valor p:\", p)\n",
    "\n",
    "# Evaluate the stadistic significance\n",
    "if p < 0.05:\n",
    "    print(\"There is a significant association between patient groups of readmitted patients and glucose levels.\")\n",
    "else:\n",
    "    print(\"No significant association was found between the groups of readmitted pattients and glucose levels.\")\n"
   ]
  },
  {
   "cell_type": "code",
   "execution_count": 58,
   "id": "cbb93892-9651-4cf0-b3f3-2d55d705b8e8",
   "metadata": {
    "tags": []
   },
   "outputs": [
    {
     "data": {
      "text/html": [
       "<div>\n",
       "<style scoped>\n",
       "    .dataframe tbody tr th:only-of-type {\n",
       "        vertical-align: middle;\n",
       "    }\n",
       "\n",
       "    .dataframe tbody tr th {\n",
       "        vertical-align: top;\n",
       "    }\n",
       "\n",
       "    .dataframe thead th {\n",
       "        text-align: right;\n",
       "    }\n",
       "</style>\n",
       "<table border=\"1\" class=\"dataframe\">\n",
       "  <thead>\n",
       "    <tr style=\"text-align: right;\">\n",
       "      <th>A1Ctest</th>\n",
       "      <th>high</th>\n",
       "      <th>no</th>\n",
       "      <th>normal</th>\n",
       "    </tr>\n",
       "    <tr>\n",
       "      <th>readmitted</th>\n",
       "      <th></th>\n",
       "      <th></th>\n",
       "      <th></th>\n",
       "    </tr>\n",
       "  </thead>\n",
       "  <tbody>\n",
       "    <tr>\n",
       "      <th>no</th>\n",
       "      <td>212</td>\n",
       "      <td>552</td>\n",
       "      <td>46</td>\n",
       "    </tr>\n",
       "    <tr>\n",
       "      <th>yes</th>\n",
       "      <td>190</td>\n",
       "      <td>693</td>\n",
       "      <td>54</td>\n",
       "    </tr>\n",
       "  </tbody>\n",
       "</table>\n",
       "</div>"
      ],
      "text/plain": [
       "A1Ctest     high   no  normal\n",
       "readmitted                   \n",
       "no           212  552      46\n",
       "yes          190  693      54"
      ]
     },
     "execution_count": 58,
     "metadata": {},
     "output_type": "execute_result"
    }
   ],
   "source": [
    "contingency_table_a1ctest = pd.crosstab(diabetes_pattient['readmitted'], diabetes_pattient['A1Ctest'])\n",
    "contingency_table_a1ctest"
   ]
  },
  {
   "cell_type": "code",
   "execution_count": 64,
   "id": "b4dce6d0-199a-4c02-aca4-0d3c08a82c9e",
   "metadata": {
    "tags": []
   },
   "outputs": [
    {
     "data": {
      "text/plain": [
       "<Axes: xlabel='A1Ctest', ylabel='count'>"
      ]
     },
     "execution_count": 64,
     "metadata": {},
     "output_type": "execute_result"
    },
    {
     "data": {
      "image/png": "[encoded data removed]",
      "text/plain": [
       "<Figure size 640x480 with 1 Axes>"
      ]
     },
     "metadata": {},
     "output_type": "display_data"
    }
   ],
   "source": [
    "sns.countplot(data=diabetes_pattient, x='A1Ctest', hue='readmitted')\n"
   ]
  },
  {
   "cell_type": "code",
   "execution_count": 59,
   "id": "8f5a2c7f-972a-4660-9b07-0ebd01dbe8be",
   "metadata": {
    "tags": []
   },
   "outputs": [
    {
     "name": "stdout",
     "output_type": "stream",
     "text": [
      "Valor de chi-cuadrado: 8.625841521502052\n",
      "Valor p: 0.01339437065385161\n",
      "There is a significant association between patient groups of readmitted patients and A1C levels.\n"
     ]
    }
   ],
   "source": [
    "chi2, p, _, _ = stats.chi2_contingency(contingency_table_a1ctest)\n",
    "\n",
    "print(\"Valor de chi-cuadrado:\", chi2)\n",
    "print(\"Valor p:\", p)\n",
    "\n",
    "# Evaluate the stadistic significance\n",
    "if p < 0.05:\n",
    "    print(\"There is a significant association between patient groups of readmitted patients and A1C levels.\")\n",
    "else:\n",
    "    print(\"No significant association was found between the groups of readmitted pattients and A1C levels.\")\n"
   ]
  },
  {
   "cell_type": "markdown",
   "id": "56b2bbd5-cec2-425e-b982-7cb6a8a630a2",
   "metadata": {},
   "source": [
    "### Focus Group of pattients with high-probability of readmition."
   ]
  },
  {
   "cell_type": "markdown",
   "id": "8df08fdd-b6f7-4b22-8a35-f059b60e6b0c",
   "metadata": {},
   "source": [
    "From all the information obtained in the pasts sections, we can see that all the patiens have similar probability of readmittion, but is true that among these that the patients with diabetes have the most probability of readmittion, so we focus our effors in understaning the behaivor of the diabetes patients given the data of the hospital, but we can see that the only significant association with readmittions is with the A1C Levels."
   ]
  },
  {
   "cell_type": "markdown",
   "id": "70c1c08e-85ff-4bfb-9f21-16b249966c66",
   "metadata": {},
   "source": [
    "### Model to predict the likelihood of readmission.\n",
    "\n",
    "Descarting the Diabetes as the maing factor of the readmittions rate, we have to focus on somewhere else, so, we define a model of logistic regresion, to predict and see the importance of each feature of readmittions."
   ]
  },
  {
   "cell_type": "code",
   "execution_count": 65,
   "id": "25cbfbac-d62b-42cd-8a57-61de83e03615",
   "metadata": {
    "tags": []
   },
   "outputs": [
    {
     "name": "stdout",
     "output_type": "stream",
     "text": [
      "Accuracy: 0.61\n",
      "              precision    recall  f1-score   support\n",
      "\n",
      "          no       0.60      0.79      0.68      2658\n",
      "         yes       0.63      0.41      0.49      2342\n",
      "\n",
      "    accuracy                           0.61      5000\n",
      "   macro avg       0.61      0.60      0.59      5000\n",
      "weighted avg       0.61      0.61      0.59      5000\n",
      "\n"
     ]
    },
    {
     "data": {
      "image/png": "[encoded data removed]",
      "text/plain": [
       "<Figure size 1200x600 with 1 Axes>"
      ]
     },
     "metadata": {},
     "output_type": "display_data"
    }
   ],
   "source": [
    "from sklearn.model_selection import train_test_split\n",
    "from sklearn.preprocessing import LabelEncoder\n",
    "from sklearn.linear_model import LogisticRegression\n",
    "from sklearn.metrics import accuracy_score, classification_report\n",
    "\n",
    "# Convert categorical columns to numerical using Label Encoding\n",
    "categorical_cols = ['age', 'medical_specialty', 'diag_1', 'diag_2', 'diag_3', 'glucose_test', 'A1Ctest', 'change', 'diabetes_med']\n",
    "label_encoder = LabelEncoder()\n",
    "\n",
    "for col in categorical_cols:\n",
    "    h[col] = label_encoder.fit_transform(h[col])\n",
    "\n",
    "# Define features (X) and target (y)\n",
    "X = h.drop(columns=['readmitted'])\n",
    "y = h['readmitted']\n",
    "\n",
    "# Split the data into training and testing sets\n",
    "X_train, X_test, y_train, y_test = train_test_split(X, y, test_size=0.2, random_state=42)\n",
    "\n",
    "# Initialize and train the logistic regression model\n",
    "model = LogisticRegression(max_iter=1000)\n",
    "model.fit(X_train, y_train)\n",
    "\n",
    "# Make predictions\n",
    "y_pred = model.predict(X_test)\n",
    "\n",
    "# Evaluate the model\n",
    "accuracy = accuracy_score(y_test, y_pred)\n",
    "print(f'Accuracy: {accuracy:.2f}')\n",
    "\n",
    "# Display classification report\n",
    "print(classification_report(y_test, y_pred))\n",
    "\n",
    "# Feature Importance Analysis\n",
    "coef = model.coef_[0]  # Coefficients of the logistic regression model\n",
    "\n",
    "# Create a DataFrame to map features to their coefficients\n",
    "feature_coef = pd.DataFrame({'Feature': X.columns, 'Coefficient': coef})\n",
    "feature_coef = feature_coef.sort_values(by='Coefficient', ascending=False)\n",
    "\n",
    "# Plot feature importance\n",
    "plt.figure(figsize=(12, 6))\n",
    "plt.barh(feature_coef['Feature'], feature_coef['Coefficient'])\n",
    "plt.xlabel('Coefficient Value')\n",
    "plt.ylabel('Feature')\n",
    "plt.title('Feature Importance Analysis')\n",
    "plt.show()\n"
   ]
  },
  {
   "cell_type": "markdown",
   "id": "55315e41-f306-4143-a778-a2082b1dbf38",
   "metadata": {},
   "source": [
    "The coefficients in a logistic regression model can provide valuable insights into the relationships between the features (independent variables) and the probability of the outcome (in this case, readmission). In your logistic regression model, you mentioned that certain features have coefficients with positive values:\n",
    "\n",
    "- **n_inpatient (Coefficient ≈ 0.38):**\n",
    "\n",
    "A positive coefficient for n_inpatient suggests that an increase in the number of inpatient visits in the year before hospitalization (prior hospitalizations) is associated with a higher log-odds of readmission.\n",
    "**Interpretation:** Patients with a history of more inpatient visits in the previous year are more likely to be readmitted.\n",
    "\n",
    "- **diabetes_med (Coefficient ≈ 0.24):**\n",
    "\n",
    "A positive coefficient for diabetes_med suggests that the use of diabetes medication (prescribed diabetes medication) is associated with a higher log-odds of readmission.\n",
    "**Interpretation:** Patients who are prescribed diabetes medication are more likely to be readmitted.\n",
    "\n",
    "- **n_emergency (Coefficient ≈ 0.238):**\n",
    "\n",
    "A positive coefficient for n_emergency suggests that an increase in the number of visits to the emergency room in the year before hospitalization is associated with a higher log-odds of readmission.\n",
    "**Interpretation:** Patients with a history of more emergency room visits in the previous year are more likely to be readmitted.\n",
    "\n",
    "These interpretations are based on the logistic regression model's coefficients, and they indicate that these three features are positively associated with an increased likelihood of readmission. However, it's important to note that these coefficients provide information about associations, not causation."
   ]
  },
  {
   "cell_type": "markdown",
   "id": "ed5de7e5-9bc0-4f7b-936d-0db14b511182",
   "metadata": {},
   "source": [
    "## Conclusion.\n",
    "\n",
    "This report provides insights into hospital readmissions, with a focus on diabetes patients. While diabetes diagnosis appears to be a factor in readmissions, other variables, such as A1C levels, also play a significant role. The logistic regression model offers a starting point for predicting readmissions, but additional refinement is required for practical implementation.\n",
    "\n",
    "The hospital should consider the findings of this analysis to prioritize follow-up efforts on patients with a higher probability of readmission, especially those with diabetes and elevated A1C levels. Further data collection and model optimization can lead to more accurate predictions and better patient care strategies."
   ]
  },
  {
   "cell_type": "code",
   "execution_count": null,
   "id": "153f4543-d371-491d-87fd-b082e8350c87",
   "metadata": {},
   "outputs": [],
   "source": []
  }
 ],
 "metadata": {
  "kernelspec": {
   "display_name": "Python 3 (ipykernel)",
   "language": "python",
   "name": "python3"
  },
  "language_info": {
   "codemirror_mode": {
    "name": "ipython",
    "version": 3
   },
   "file_extension": ".py",
   "mimetype": "text/x-python",
   "name": "python",
   "nbconvert_exporter": "python",
   "pygments_lexer": "ipython3",
   "version": "3.11.5"
  }
 },
 "nbformat": 4,
 "nbformat_minor": 5
}
